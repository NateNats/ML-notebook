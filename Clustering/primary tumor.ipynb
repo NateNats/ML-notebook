{
 "cells": [
  {
   "cell_type": "code",
   "execution_count": 1,
   "id": "initial_id",
   "metadata": {
    "collapsed": true,
    "ExecuteTime": {
     "end_time": "2024-04-14T04:12:12.901544Z",
     "start_time": "2024-04-14T04:12:12.886454Z"
    }
   },
   "outputs": [],
   "source": [
    "import pandas as pd"
   ]
  },
  {
   "cell_type": "code",
   "outputs": [
    {
     "name": "stdout",
     "output_type": "stream",
     "text": [
      "{'uci_id': 83, 'name': 'Primary Tumor', 'repository_url': 'https://archive.ics.uci.edu/dataset/83/primary+tumor', 'data_url': 'https://archive.ics.uci.edu/static/public/83/data.csv', 'abstract': 'From Ljubljana Oncology Institute', 'area': 'Health and Medicine', 'tasks': ['Classification'], 'characteristics': ['Multivariate'], 'num_instances': 339, 'num_features': 17, 'feature_types': ['Categorical'], 'demographics': ['Age', 'Sex'], 'target_col': ['class'], 'index_col': None, 'has_missing_values': 'yes', 'missing_values_symbol': 'NaN', 'year_of_dataset_creation': 1987, 'last_updated': 'Thu Mar 07 2024', 'dataset_doi': '10.24432/C5WK5Q', 'creators': ['M. Zwitter', 'M. Soklic'], 'intro_paper': None, 'additional_info': {'summary': 'This is one of three domains provided by the Oncology Institutenthat has repeatedly appeared in the machine learning literature.\\r\\n\\r\\n(See also breast-cancer and lymphography.)', 'purpose': None, 'funded_by': None, 'instances_represent': None, 'recommended_data_splits': None, 'sensitive_data': None, 'preprocessing_description': None, 'variable_info': '--- NOTE: All attribute values in the database have been entered as numeric values corresponding to their index in the list of attribute values for that attribute domain as given below.\\r\\n   1. class: lung, head & neck, esophasus, thyroid, stomach, duoden & sm.int, colon, rectum, anus, salivary glands, pancreas, gallblader, liver, kidney, bladder, testis, prostate, ovary, corpus uteri, cervix uteri, vagina, breast\\r\\n   2. age:   <30, 30-59, >=60\\r\\n   3. sex:   male, female\\r\\n   4. histologic-type: epidermoid, adeno, anaplastic\\r\\n   5. degree-of-diffe: well, fairly, poorly\\r\\n   6. bone: yes, no\\r\\n   7. bone-marrow: yes, no\\r\\n   8. lung: yes, no\\r\\n   9. pleura: yes, no\\r\\n  10. peritoneum: yes, no\\r\\n  11. liver: yes, no\\r\\n  12. brain: yes, no\\r\\n  13. skin: yes, no\\r\\n  14. neck: yes, no\\r\\n  15. supraclavicular: yes, no\\r\\n  16. axillar: yes, no\\r\\n  17. mediastinum: yes, no\\r\\n  18. abdominal: yes, no', 'citation': 'This primary tumor domain was obtained from the University Medical Centre, Institute of Oncology, Ljubljana, Yugoslavia. Thanks go to M. Zwitter and M. Soklic for providing the data. Please include this citation if you plan to use this database.'}}\n"
     ]
    }
   ],
   "source": [
    "from ucimlrepo import fetch_ucirepo\n",
    "\n",
    "# fetch dataset \n",
    "primary_tumor = fetch_ucirepo(id=83)\n",
    "\n",
    "# data (as pandas dataframes) \n",
    "X = primary_tumor.data.features\n",
    "y = primary_tumor.data.targets\n",
    "\n",
    "# metadata \n",
    "print(primary_tumor.metadata)"
   ],
   "metadata": {
    "collapsed": false,
    "ExecuteTime": {
     "end_time": "2024-04-14T04:16:12.336574Z",
     "start_time": "2024-04-14T04:16:10.353326Z"
    }
   },
   "id": "36ebbe7226ed3f26",
   "execution_count": 4
  },
  {
   "cell_type": "code",
   "outputs": [
    {
     "name": "stdout",
     "output_type": "stream",
     "text": [
      "               name     role     type demographic description units  \\\n",
      "0             class   Target  Integer        None        None  None   \n",
      "1               age  Feature  Integer         Age        None  None   \n",
      "2               sex  Feature  Integer         Sex        None  None   \n",
      "3   histologic-type  Feature  Integer        None        None  None   \n",
      "4   degree-of-diffe  Feature  Integer        None        None  None   \n",
      "5              bone  Feature  Integer        None        None  None   \n",
      "6      bone-marryow  Feature  Integer        None        None  None   \n",
      "7              lung  Feature  Integer        None        None  None   \n",
      "8            pleura  Feature  Integer        None        None  None   \n",
      "9        peritoneum  Feature  Integer        None        None  None   \n",
      "10            liver  Feature  Integer        None        None  None   \n",
      "11            brain  Feature  Integer        None        None  None   \n",
      "12             skin  Feature  Integer        None        None  None   \n",
      "13             neck  Feature  Integer        None        None  None   \n",
      "14  supraclavicular  Feature  Integer        None        None  None   \n",
      "15          axillar  Feature  Integer        None        None  None   \n",
      "16      mediastinum  Feature  Integer        None        None  None   \n",
      "17        abdominal  Feature  Integer        None        None  None   \n",
      "\n",
      "   missing_values  \n",
      "0              no  \n",
      "1              no  \n",
      "2             yes  \n",
      "3             yes  \n",
      "4             yes  \n",
      "5              no  \n",
      "6              no  \n",
      "7              no  \n",
      "8              no  \n",
      "9              no  \n",
      "10             no  \n",
      "11             no  \n",
      "12            yes  \n",
      "13             no  \n",
      "14             no  \n",
      "15            yes  \n",
      "16             no  \n",
      "17             no  \n"
     ]
    }
   ],
   "source": [
    "\n",
    "# variable information \n",
    "print(primary_tumor.variables)"
   ],
   "metadata": {
    "collapsed": false,
    "ExecuteTime": {
     "end_time": "2024-04-14T04:16:17.282400Z",
     "start_time": "2024-04-14T04:16:17.263411Z"
    }
   },
   "id": "ece0f1816165677f",
   "execution_count": 5
  },
  {
   "cell_type": "code",
   "outputs": [
    {
     "data": {
      "text/plain": "     age  sex  histologic-type  degree-of-diffe  bone  bone-marryow  lung  \\\n0      1  1.0              NaN              3.0     2             2     1   \n1      1  1.0              NaN              3.0     2             2     2   \n2      1  2.0              2.0              3.0     1             2     2   \n3      1  2.0              NaN              3.0     1             2     1   \n4      1  2.0              NaN              3.0     1             2     1   \n..   ...  ...              ...              ...   ...           ...   ...   \n334    2  2.0              2.0              NaN     2             2     2   \n335    2  2.0              2.0              NaN     2             2     2   \n336    2  2.0              NaN              NaN     1             2     2   \n337    3  2.0              2.0              2.0     2             2     2   \n338    3  2.0              2.0              2.0     2             2     2   \n\n     pleura  peritoneum  liver  brain  skin  neck  supraclavicular  axillar  \\\n0         2           2      2      2   2.0     2                2      2.0   \n1         2           2      1      2   2.0     2                1      2.0   \n2         2           2      2      2   2.0     2                2      2.0   \n3         1           2      2      2   2.0     2                2      2.0   \n4         1           2      2      2   2.0     2                2      2.0   \n..      ...         ...    ...    ...   ...   ...              ...      ...   \n334       2           2      2      2   2.0     2                2      1.0   \n335       2           2      2      2   2.0     2                2      1.0   \n336       2           2      2      2   2.0     2                1      1.0   \n337       2           2      2      2   2.0     1                1      1.0   \n338       2           2      2      2   2.0     2                1      1.0   \n\n     mediastinum  abdominal  \n0              2          2  \n1              1          2  \n2              1          2  \n3              1          2  \n4              1          2  \n..           ...        ...  \n334            2          2  \n335            2          2  \n336            2          2  \n337            2          2  \n338            2          2  \n\n[339 rows x 17 columns]",
      "text/html": "<div>\n<style scoped>\n    .dataframe tbody tr th:only-of-type {\n        vertical-align: middle;\n    }\n\n    .dataframe tbody tr th {\n        vertical-align: top;\n    }\n\n    .dataframe thead th {\n        text-align: right;\n    }\n</style>\n<table border=\"1\" class=\"dataframe\">\n  <thead>\n    <tr style=\"text-align: right;\">\n      <th></th>\n      <th>age</th>\n      <th>sex</th>\n      <th>histologic-type</th>\n      <th>degree-of-diffe</th>\n      <th>bone</th>\n      <th>bone-marryow</th>\n      <th>lung</th>\n      <th>pleura</th>\n      <th>peritoneum</th>\n      <th>liver</th>\n      <th>brain</th>\n      <th>skin</th>\n      <th>neck</th>\n      <th>supraclavicular</th>\n      <th>axillar</th>\n      <th>mediastinum</th>\n      <th>abdominal</th>\n    </tr>\n  </thead>\n  <tbody>\n    <tr>\n      <th>0</th>\n      <td>1</td>\n      <td>1.0</td>\n      <td>NaN</td>\n      <td>3.0</td>\n      <td>2</td>\n      <td>2</td>\n      <td>1</td>\n      <td>2</td>\n      <td>2</td>\n      <td>2</td>\n      <td>2</td>\n      <td>2.0</td>\n      <td>2</td>\n      <td>2</td>\n      <td>2.0</td>\n      <td>2</td>\n      <td>2</td>\n    </tr>\n    <tr>\n      <th>1</th>\n      <td>1</td>\n      <td>1.0</td>\n      <td>NaN</td>\n      <td>3.0</td>\n      <td>2</td>\n      <td>2</td>\n      <td>2</td>\n      <td>2</td>\n      <td>2</td>\n      <td>1</td>\n      <td>2</td>\n      <td>2.0</td>\n      <td>2</td>\n      <td>1</td>\n      <td>2.0</td>\n      <td>1</td>\n      <td>2</td>\n    </tr>\n    <tr>\n      <th>2</th>\n      <td>1</td>\n      <td>2.0</td>\n      <td>2.0</td>\n      <td>3.0</td>\n      <td>1</td>\n      <td>2</td>\n      <td>2</td>\n      <td>2</td>\n      <td>2</td>\n      <td>2</td>\n      <td>2</td>\n      <td>2.0</td>\n      <td>2</td>\n      <td>2</td>\n      <td>2.0</td>\n      <td>1</td>\n      <td>2</td>\n    </tr>\n    <tr>\n      <th>3</th>\n      <td>1</td>\n      <td>2.0</td>\n      <td>NaN</td>\n      <td>3.0</td>\n      <td>1</td>\n      <td>2</td>\n      <td>1</td>\n      <td>1</td>\n      <td>2</td>\n      <td>2</td>\n      <td>2</td>\n      <td>2.0</td>\n      <td>2</td>\n      <td>2</td>\n      <td>2.0</td>\n      <td>1</td>\n      <td>2</td>\n    </tr>\n    <tr>\n      <th>4</th>\n      <td>1</td>\n      <td>2.0</td>\n      <td>NaN</td>\n      <td>3.0</td>\n      <td>1</td>\n      <td>2</td>\n      <td>1</td>\n      <td>1</td>\n      <td>2</td>\n      <td>2</td>\n      <td>2</td>\n      <td>2.0</td>\n      <td>2</td>\n      <td>2</td>\n      <td>2.0</td>\n      <td>1</td>\n      <td>2</td>\n    </tr>\n    <tr>\n      <th>...</th>\n      <td>...</td>\n      <td>...</td>\n      <td>...</td>\n      <td>...</td>\n      <td>...</td>\n      <td>...</td>\n      <td>...</td>\n      <td>...</td>\n      <td>...</td>\n      <td>...</td>\n      <td>...</td>\n      <td>...</td>\n      <td>...</td>\n      <td>...</td>\n      <td>...</td>\n      <td>...</td>\n      <td>...</td>\n    </tr>\n    <tr>\n      <th>334</th>\n      <td>2</td>\n      <td>2.0</td>\n      <td>2.0</td>\n      <td>NaN</td>\n      <td>2</td>\n      <td>2</td>\n      <td>2</td>\n      <td>2</td>\n      <td>2</td>\n      <td>2</td>\n      <td>2</td>\n      <td>2.0</td>\n      <td>2</td>\n      <td>2</td>\n      <td>1.0</td>\n      <td>2</td>\n      <td>2</td>\n    </tr>\n    <tr>\n      <th>335</th>\n      <td>2</td>\n      <td>2.0</td>\n      <td>2.0</td>\n      <td>NaN</td>\n      <td>2</td>\n      <td>2</td>\n      <td>2</td>\n      <td>2</td>\n      <td>2</td>\n      <td>2</td>\n      <td>2</td>\n      <td>2.0</td>\n      <td>2</td>\n      <td>2</td>\n      <td>1.0</td>\n      <td>2</td>\n      <td>2</td>\n    </tr>\n    <tr>\n      <th>336</th>\n      <td>2</td>\n      <td>2.0</td>\n      <td>NaN</td>\n      <td>NaN</td>\n      <td>1</td>\n      <td>2</td>\n      <td>2</td>\n      <td>2</td>\n      <td>2</td>\n      <td>2</td>\n      <td>2</td>\n      <td>2.0</td>\n      <td>2</td>\n      <td>1</td>\n      <td>1.0</td>\n      <td>2</td>\n      <td>2</td>\n    </tr>\n    <tr>\n      <th>337</th>\n      <td>3</td>\n      <td>2.0</td>\n      <td>2.0</td>\n      <td>2.0</td>\n      <td>2</td>\n      <td>2</td>\n      <td>2</td>\n      <td>2</td>\n      <td>2</td>\n      <td>2</td>\n      <td>2</td>\n      <td>2.0</td>\n      <td>1</td>\n      <td>1</td>\n      <td>1.0</td>\n      <td>2</td>\n      <td>2</td>\n    </tr>\n    <tr>\n      <th>338</th>\n      <td>3</td>\n      <td>2.0</td>\n      <td>2.0</td>\n      <td>2.0</td>\n      <td>2</td>\n      <td>2</td>\n      <td>2</td>\n      <td>2</td>\n      <td>2</td>\n      <td>2</td>\n      <td>2</td>\n      <td>2.0</td>\n      <td>2</td>\n      <td>1</td>\n      <td>1.0</td>\n      <td>2</td>\n      <td>2</td>\n    </tr>\n  </tbody>\n</table>\n<p>339 rows × 17 columns</p>\n</div>"
     },
     "execution_count": 6,
     "metadata": {},
     "output_type": "execute_result"
    }
   ],
   "source": [
    "X"
   ],
   "metadata": {
    "collapsed": false,
    "ExecuteTime": {
     "end_time": "2024-04-14T04:16:25.219984Z",
     "start_time": "2024-04-14T04:16:25.202982Z"
    }
   },
   "id": "734c15f45e074461",
   "execution_count": 6
  },
  {
   "cell_type": "code",
   "outputs": [
    {
     "data": {
      "text/plain": "     class\n0        1\n1        1\n2        1\n3        1\n4        1\n..     ...\n334     22\n335     22\n336     22\n337     22\n338     22\n\n[339 rows x 1 columns]",
      "text/html": "<div>\n<style scoped>\n    .dataframe tbody tr th:only-of-type {\n        vertical-align: middle;\n    }\n\n    .dataframe tbody tr th {\n        vertical-align: top;\n    }\n\n    .dataframe thead th {\n        text-align: right;\n    }\n</style>\n<table border=\"1\" class=\"dataframe\">\n  <thead>\n    <tr style=\"text-align: right;\">\n      <th></th>\n      <th>class</th>\n    </tr>\n  </thead>\n  <tbody>\n    <tr>\n      <th>0</th>\n      <td>1</td>\n    </tr>\n    <tr>\n      <th>1</th>\n      <td>1</td>\n    </tr>\n    <tr>\n      <th>2</th>\n      <td>1</td>\n    </tr>\n    <tr>\n      <th>3</th>\n      <td>1</td>\n    </tr>\n    <tr>\n      <th>4</th>\n      <td>1</td>\n    </tr>\n    <tr>\n      <th>...</th>\n      <td>...</td>\n    </tr>\n    <tr>\n      <th>334</th>\n      <td>22</td>\n    </tr>\n    <tr>\n      <th>335</th>\n      <td>22</td>\n    </tr>\n    <tr>\n      <th>336</th>\n      <td>22</td>\n    </tr>\n    <tr>\n      <th>337</th>\n      <td>22</td>\n    </tr>\n    <tr>\n      <th>338</th>\n      <td>22</td>\n    </tr>\n  </tbody>\n</table>\n<p>339 rows × 1 columns</p>\n</div>"
     },
     "execution_count": 7,
     "metadata": {},
     "output_type": "execute_result"
    }
   ],
   "source": [
    "y"
   ],
   "metadata": {
    "collapsed": false,
    "ExecuteTime": {
     "end_time": "2024-04-14T04:16:26.863810Z",
     "start_time": "2024-04-14T04:16:26.843810Z"
    }
   },
   "id": "2f997a1ca73a8fab",
   "execution_count": 7
  },
  {
   "cell_type": "code",
   "outputs": [
    {
     "data": {
      "text/plain": "     age  sex  histologic-type  degree-of-diffe  bone  bone-marryow  lung  \\\n0      1  1.0              NaN              3.0     2             2     1   \n1      1  1.0              NaN              3.0     2             2     2   \n2      1  2.0              2.0              3.0     1             2     2   \n3      1  2.0              NaN              3.0     1             2     1   \n4      1  2.0              NaN              3.0     1             2     1   \n..   ...  ...              ...              ...   ...           ...   ...   \n334    2  2.0              2.0              NaN     2             2     2   \n335    2  2.0              2.0              NaN     2             2     2   \n336    2  2.0              NaN              NaN     1             2     2   \n337    3  2.0              2.0              2.0     2             2     2   \n338    3  2.0              2.0              2.0     2             2     2   \n\n     pleura  peritoneum  liver  brain  skin  neck  supraclavicular  axillar  \\\n0         2           2      2      2   2.0     2                2      2.0   \n1         2           2      1      2   2.0     2                1      2.0   \n2         2           2      2      2   2.0     2                2      2.0   \n3         1           2      2      2   2.0     2                2      2.0   \n4         1           2      2      2   2.0     2                2      2.0   \n..      ...         ...    ...    ...   ...   ...              ...      ...   \n334       2           2      2      2   2.0     2                2      1.0   \n335       2           2      2      2   2.0     2                2      1.0   \n336       2           2      2      2   2.0     2                1      1.0   \n337       2           2      2      2   2.0     1                1      1.0   \n338       2           2      2      2   2.0     2                1      1.0   \n\n     mediastinum  abdominal  class  \n0              2          2      1  \n1              1          2      1  \n2              1          2      1  \n3              1          2      1  \n4              1          2      1  \n..           ...        ...    ...  \n334            2          2     22  \n335            2          2     22  \n336            2          2     22  \n337            2          2     22  \n338            2          2     22  \n\n[339 rows x 18 columns]",
      "text/html": "<div>\n<style scoped>\n    .dataframe tbody tr th:only-of-type {\n        vertical-align: middle;\n    }\n\n    .dataframe tbody tr th {\n        vertical-align: top;\n    }\n\n    .dataframe thead th {\n        text-align: right;\n    }\n</style>\n<table border=\"1\" class=\"dataframe\">\n  <thead>\n    <tr style=\"text-align: right;\">\n      <th></th>\n      <th>age</th>\n      <th>sex</th>\n      <th>histologic-type</th>\n      <th>degree-of-diffe</th>\n      <th>bone</th>\n      <th>bone-marryow</th>\n      <th>lung</th>\n      <th>pleura</th>\n      <th>peritoneum</th>\n      <th>liver</th>\n      <th>brain</th>\n      <th>skin</th>\n      <th>neck</th>\n      <th>supraclavicular</th>\n      <th>axillar</th>\n      <th>mediastinum</th>\n      <th>abdominal</th>\n      <th>class</th>\n    </tr>\n  </thead>\n  <tbody>\n    <tr>\n      <th>0</th>\n      <td>1</td>\n      <td>1.0</td>\n      <td>NaN</td>\n      <td>3.0</td>\n      <td>2</td>\n      <td>2</td>\n      <td>1</td>\n      <td>2</td>\n      <td>2</td>\n      <td>2</td>\n      <td>2</td>\n      <td>2.0</td>\n      <td>2</td>\n      <td>2</td>\n      <td>2.0</td>\n      <td>2</td>\n      <td>2</td>\n      <td>1</td>\n    </tr>\n    <tr>\n      <th>1</th>\n      <td>1</td>\n      <td>1.0</td>\n      <td>NaN</td>\n      <td>3.0</td>\n      <td>2</td>\n      <td>2</td>\n      <td>2</td>\n      <td>2</td>\n      <td>2</td>\n      <td>1</td>\n      <td>2</td>\n      <td>2.0</td>\n      <td>2</td>\n      <td>1</td>\n      <td>2.0</td>\n      <td>1</td>\n      <td>2</td>\n      <td>1</td>\n    </tr>\n    <tr>\n      <th>2</th>\n      <td>1</td>\n      <td>2.0</td>\n      <td>2.0</td>\n      <td>3.0</td>\n      <td>1</td>\n      <td>2</td>\n      <td>2</td>\n      <td>2</td>\n      <td>2</td>\n      <td>2</td>\n      <td>2</td>\n      <td>2.0</td>\n      <td>2</td>\n      <td>2</td>\n      <td>2.0</td>\n      <td>1</td>\n      <td>2</td>\n      <td>1</td>\n    </tr>\n    <tr>\n      <th>3</th>\n      <td>1</td>\n      <td>2.0</td>\n      <td>NaN</td>\n      <td>3.0</td>\n      <td>1</td>\n      <td>2</td>\n      <td>1</td>\n      <td>1</td>\n      <td>2</td>\n      <td>2</td>\n      <td>2</td>\n      <td>2.0</td>\n      <td>2</td>\n      <td>2</td>\n      <td>2.0</td>\n      <td>1</td>\n      <td>2</td>\n      <td>1</td>\n    </tr>\n    <tr>\n      <th>4</th>\n      <td>1</td>\n      <td>2.0</td>\n      <td>NaN</td>\n      <td>3.0</td>\n      <td>1</td>\n      <td>2</td>\n      <td>1</td>\n      <td>1</td>\n      <td>2</td>\n      <td>2</td>\n      <td>2</td>\n      <td>2.0</td>\n      <td>2</td>\n      <td>2</td>\n      <td>2.0</td>\n      <td>1</td>\n      <td>2</td>\n      <td>1</td>\n    </tr>\n    <tr>\n      <th>...</th>\n      <td>...</td>\n      <td>...</td>\n      <td>...</td>\n      <td>...</td>\n      <td>...</td>\n      <td>...</td>\n      <td>...</td>\n      <td>...</td>\n      <td>...</td>\n      <td>...</td>\n      <td>...</td>\n      <td>...</td>\n      <td>...</td>\n      <td>...</td>\n      <td>...</td>\n      <td>...</td>\n      <td>...</td>\n      <td>...</td>\n    </tr>\n    <tr>\n      <th>334</th>\n      <td>2</td>\n      <td>2.0</td>\n      <td>2.0</td>\n      <td>NaN</td>\n      <td>2</td>\n      <td>2</td>\n      <td>2</td>\n      <td>2</td>\n      <td>2</td>\n      <td>2</td>\n      <td>2</td>\n      <td>2.0</td>\n      <td>2</td>\n      <td>2</td>\n      <td>1.0</td>\n      <td>2</td>\n      <td>2</td>\n      <td>22</td>\n    </tr>\n    <tr>\n      <th>335</th>\n      <td>2</td>\n      <td>2.0</td>\n      <td>2.0</td>\n      <td>NaN</td>\n      <td>2</td>\n      <td>2</td>\n      <td>2</td>\n      <td>2</td>\n      <td>2</td>\n      <td>2</td>\n      <td>2</td>\n      <td>2.0</td>\n      <td>2</td>\n      <td>2</td>\n      <td>1.0</td>\n      <td>2</td>\n      <td>2</td>\n      <td>22</td>\n    </tr>\n    <tr>\n      <th>336</th>\n      <td>2</td>\n      <td>2.0</td>\n      <td>NaN</td>\n      <td>NaN</td>\n      <td>1</td>\n      <td>2</td>\n      <td>2</td>\n      <td>2</td>\n      <td>2</td>\n      <td>2</td>\n      <td>2</td>\n      <td>2.0</td>\n      <td>2</td>\n      <td>1</td>\n      <td>1.0</td>\n      <td>2</td>\n      <td>2</td>\n      <td>22</td>\n    </tr>\n    <tr>\n      <th>337</th>\n      <td>3</td>\n      <td>2.0</td>\n      <td>2.0</td>\n      <td>2.0</td>\n      <td>2</td>\n      <td>2</td>\n      <td>2</td>\n      <td>2</td>\n      <td>2</td>\n      <td>2</td>\n      <td>2</td>\n      <td>2.0</td>\n      <td>1</td>\n      <td>1</td>\n      <td>1.0</td>\n      <td>2</td>\n      <td>2</td>\n      <td>22</td>\n    </tr>\n    <tr>\n      <th>338</th>\n      <td>3</td>\n      <td>2.0</td>\n      <td>2.0</td>\n      <td>2.0</td>\n      <td>2</td>\n      <td>2</td>\n      <td>2</td>\n      <td>2</td>\n      <td>2</td>\n      <td>2</td>\n      <td>2</td>\n      <td>2.0</td>\n      <td>2</td>\n      <td>1</td>\n      <td>1.0</td>\n      <td>2</td>\n      <td>2</td>\n      <td>22</td>\n    </tr>\n  </tbody>\n</table>\n<p>339 rows × 18 columns</p>\n</div>"
     },
     "execution_count": 8,
     "metadata": {},
     "output_type": "execute_result"
    }
   ],
   "source": [
    "data = X.join(y)\n",
    "data"
   ],
   "metadata": {
    "collapsed": false,
    "ExecuteTime": {
     "end_time": "2024-04-14T04:25:33.500019Z",
     "start_time": "2024-04-14T04:25:33.473019Z"
    }
   },
   "id": "4eddd5b8de173082",
   "execution_count": 8
  },
  {
   "cell_type": "code",
   "outputs": [],
   "source": [
    "data.to_csv('primary_tumor.csv', index=False)"
   ],
   "metadata": {
    "collapsed": false
   },
   "id": "4b2d18a7447742f1"
  }
 ],
 "metadata": {
  "kernelspec": {
   "display_name": "Python 3",
   "language": "python",
   "name": "python3"
  },
  "language_info": {
   "codemirror_mode": {
    "name": "ipython",
    "version": 2
   },
   "file_extension": ".py",
   "mimetype": "text/x-python",
   "name": "python",
   "nbconvert_exporter": "python",
   "pygments_lexer": "ipython2",
   "version": "2.7.6"
  }
 },
 "nbformat": 4,
 "nbformat_minor": 5
}

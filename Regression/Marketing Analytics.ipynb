{
 "cells": [
  {
   "cell_type": "code",
   "outputs": [],
   "source": [
    "import pandas as pd\n",
    "import numpy as np\n",
    "import matplotlib.pyplot as plt"
   ],
   "metadata": {
    "collapsed": false,
    "ExecuteTime": {
     "end_time": "2024-03-01T06:52:48.642453Z",
     "start_time": "2024-03-01T06:52:48.624415Z"
    }
   },
   "id": "adb33b0844faed6b",
   "execution_count": 7
  },
  {
   "cell_type": "code",
   "outputs": [
    {
     "data": {
      "text/plain": "         ID  Year_Birth   Education Marital_Status   Income  Kidhome  \\\n0      5524        1957  Graduation         Single  58138.0        0   \n1      2174        1954  Graduation         Single  46344.0        1   \n2      4141        1965  Graduation       Together  71613.0        0   \n3      6182        1984  Graduation       Together  26646.0        1   \n4      5324        1981         PhD        Married  58293.0        1   \n...     ...         ...         ...            ...      ...      ...   \n2235  10870        1967  Graduation        Married  61223.0        0   \n2236   4001        1946         PhD       Together  64014.0        2   \n2237   7270        1981  Graduation       Divorced  56981.0        0   \n2238   8235        1956      Master       Together  69245.0        0   \n2239   9405        1954         PhD        Married  52869.0        1   \n\n      Teenhome Dt_Customer  Recency  MntWines  ...  NumWebVisitsMonth  \\\n0            0  2012-09-04       58       635  ...                  7   \n1            1  2014-03-08       38        11  ...                  5   \n2            0  2013-08-21       26       426  ...                  4   \n3            0  2014-02-10       26        11  ...                  6   \n4            0  2014-01-19       94       173  ...                  5   \n...        ...         ...      ...       ...  ...                ...   \n2235         1  2013-06-13       46       709  ...                  5   \n2236         1  2014-06-10       56       406  ...                  7   \n2237         0  2014-01-25       91       908  ...                  6   \n2238         1  2014-01-24        8       428  ...                  3   \n2239         1  2012-10-15       40        84  ...                  7   \n\n      AcceptedCmp3  AcceptedCmp4  AcceptedCmp5  AcceptedCmp1  AcceptedCmp2  \\\n0                0             0             0             0             0   \n1                0             0             0             0             0   \n2                0             0             0             0             0   \n3                0             0             0             0             0   \n4                0             0             0             0             0   \n...            ...           ...           ...           ...           ...   \n2235             0             0             0             0             0   \n2236             0             0             0             1             0   \n2237             0             1             0             0             0   \n2238             0             0             0             0             0   \n2239             0             0             0             0             0   \n\n      Complain  Z_CostContact  Z_Revenue  Response  \n0            0              3         11         1  \n1            0              3         11         0  \n2            0              3         11         0  \n3            0              3         11         0  \n4            0              3         11         0  \n...        ...            ...        ...       ...  \n2235         0              3         11         0  \n2236         0              3         11         0  \n2237         0              3         11         0  \n2238         0              3         11         0  \n2239         0              3         11         1  \n\n[2240 rows x 29 columns]",
      "text/html": "<div>\n<style scoped>\n    .dataframe tbody tr th:only-of-type {\n        vertical-align: middle;\n    }\n\n    .dataframe tbody tr th {\n        vertical-align: top;\n    }\n\n    .dataframe thead th {\n        text-align: right;\n    }\n</style>\n<table border=\"1\" class=\"dataframe\">\n  <thead>\n    <tr style=\"text-align: right;\">\n      <th></th>\n      <th>ID</th>\n      <th>Year_Birth</th>\n      <th>Education</th>\n      <th>Marital_Status</th>\n      <th>Income</th>\n      <th>Kidhome</th>\n      <th>Teenhome</th>\n      <th>Dt_Customer</th>\n      <th>Recency</th>\n      <th>MntWines</th>\n      <th>...</th>\n      <th>NumWebVisitsMonth</th>\n      <th>AcceptedCmp3</th>\n      <th>AcceptedCmp4</th>\n      <th>AcceptedCmp5</th>\n      <th>AcceptedCmp1</th>\n      <th>AcceptedCmp2</th>\n      <th>Complain</th>\n      <th>Z_CostContact</th>\n      <th>Z_Revenue</th>\n      <th>Response</th>\n    </tr>\n  </thead>\n  <tbody>\n    <tr>\n      <th>0</th>\n      <td>5524</td>\n      <td>1957</td>\n      <td>Graduation</td>\n      <td>Single</td>\n      <td>58138.0</td>\n      <td>0</td>\n      <td>0</td>\n      <td>2012-09-04</td>\n      <td>58</td>\n      <td>635</td>\n      <td>...</td>\n      <td>7</td>\n      <td>0</td>\n      <td>0</td>\n      <td>0</td>\n      <td>0</td>\n      <td>0</td>\n      <td>0</td>\n      <td>3</td>\n      <td>11</td>\n      <td>1</td>\n    </tr>\n    <tr>\n      <th>1</th>\n      <td>2174</td>\n      <td>1954</td>\n      <td>Graduation</td>\n      <td>Single</td>\n      <td>46344.0</td>\n      <td>1</td>\n      <td>1</td>\n      <td>2014-03-08</td>\n      <td>38</td>\n      <td>11</td>\n      <td>...</td>\n      <td>5</td>\n      <td>0</td>\n      <td>0</td>\n      <td>0</td>\n      <td>0</td>\n      <td>0</td>\n      <td>0</td>\n      <td>3</td>\n      <td>11</td>\n      <td>0</td>\n    </tr>\n    <tr>\n      <th>2</th>\n      <td>4141</td>\n      <td>1965</td>\n      <td>Graduation</td>\n      <td>Together</td>\n      <td>71613.0</td>\n      <td>0</td>\n      <td>0</td>\n      <td>2013-08-21</td>\n      <td>26</td>\n      <td>426</td>\n      <td>...</td>\n      <td>4</td>\n      <td>0</td>\n      <td>0</td>\n      <td>0</td>\n      <td>0</td>\n      <td>0</td>\n      <td>0</td>\n      <td>3</td>\n      <td>11</td>\n      <td>0</td>\n    </tr>\n    <tr>\n      <th>3</th>\n      <td>6182</td>\n      <td>1984</td>\n      <td>Graduation</td>\n      <td>Together</td>\n      <td>26646.0</td>\n      <td>1</td>\n      <td>0</td>\n      <td>2014-02-10</td>\n      <td>26</td>\n      <td>11</td>\n      <td>...</td>\n      <td>6</td>\n      <td>0</td>\n      <td>0</td>\n      <td>0</td>\n      <td>0</td>\n      <td>0</td>\n      <td>0</td>\n      <td>3</td>\n      <td>11</td>\n      <td>0</td>\n    </tr>\n    <tr>\n      <th>4</th>\n      <td>5324</td>\n      <td>1981</td>\n      <td>PhD</td>\n      <td>Married</td>\n      <td>58293.0</td>\n      <td>1</td>\n      <td>0</td>\n      <td>2014-01-19</td>\n      <td>94</td>\n      <td>173</td>\n      <td>...</td>\n      <td>5</td>\n      <td>0</td>\n      <td>0</td>\n      <td>0</td>\n      <td>0</td>\n      <td>0</td>\n      <td>0</td>\n      <td>3</td>\n      <td>11</td>\n      <td>0</td>\n    </tr>\n    <tr>\n      <th>...</th>\n      <td>...</td>\n      <td>...</td>\n      <td>...</td>\n      <td>...</td>\n      <td>...</td>\n      <td>...</td>\n      <td>...</td>\n      <td>...</td>\n      <td>...</td>\n      <td>...</td>\n      <td>...</td>\n      <td>...</td>\n      <td>...</td>\n      <td>...</td>\n      <td>...</td>\n      <td>...</td>\n      <td>...</td>\n      <td>...</td>\n      <td>...</td>\n      <td>...</td>\n      <td>...</td>\n    </tr>\n    <tr>\n      <th>2235</th>\n      <td>10870</td>\n      <td>1967</td>\n      <td>Graduation</td>\n      <td>Married</td>\n      <td>61223.0</td>\n      <td>0</td>\n      <td>1</td>\n      <td>2013-06-13</td>\n      <td>46</td>\n      <td>709</td>\n      <td>...</td>\n      <td>5</td>\n      <td>0</td>\n      <td>0</td>\n      <td>0</td>\n      <td>0</td>\n      <td>0</td>\n      <td>0</td>\n      <td>3</td>\n      <td>11</td>\n      <td>0</td>\n    </tr>\n    <tr>\n      <th>2236</th>\n      <td>4001</td>\n      <td>1946</td>\n      <td>PhD</td>\n      <td>Together</td>\n      <td>64014.0</td>\n      <td>2</td>\n      <td>1</td>\n      <td>2014-06-10</td>\n      <td>56</td>\n      <td>406</td>\n      <td>...</td>\n      <td>7</td>\n      <td>0</td>\n      <td>0</td>\n      <td>0</td>\n      <td>1</td>\n      <td>0</td>\n      <td>0</td>\n      <td>3</td>\n      <td>11</td>\n      <td>0</td>\n    </tr>\n    <tr>\n      <th>2237</th>\n      <td>7270</td>\n      <td>1981</td>\n      <td>Graduation</td>\n      <td>Divorced</td>\n      <td>56981.0</td>\n      <td>0</td>\n      <td>0</td>\n      <td>2014-01-25</td>\n      <td>91</td>\n      <td>908</td>\n      <td>...</td>\n      <td>6</td>\n      <td>0</td>\n      <td>1</td>\n      <td>0</td>\n      <td>0</td>\n      <td>0</td>\n      <td>0</td>\n      <td>3</td>\n      <td>11</td>\n      <td>0</td>\n    </tr>\n    <tr>\n      <th>2238</th>\n      <td>8235</td>\n      <td>1956</td>\n      <td>Master</td>\n      <td>Together</td>\n      <td>69245.0</td>\n      <td>0</td>\n      <td>1</td>\n      <td>2014-01-24</td>\n      <td>8</td>\n      <td>428</td>\n      <td>...</td>\n      <td>3</td>\n      <td>0</td>\n      <td>0</td>\n      <td>0</td>\n      <td>0</td>\n      <td>0</td>\n      <td>0</td>\n      <td>3</td>\n      <td>11</td>\n      <td>0</td>\n    </tr>\n    <tr>\n      <th>2239</th>\n      <td>9405</td>\n      <td>1954</td>\n      <td>PhD</td>\n      <td>Married</td>\n      <td>52869.0</td>\n      <td>1</td>\n      <td>1</td>\n      <td>2012-10-15</td>\n      <td>40</td>\n      <td>84</td>\n      <td>...</td>\n      <td>7</td>\n      <td>0</td>\n      <td>0</td>\n      <td>0</td>\n      <td>0</td>\n      <td>0</td>\n      <td>0</td>\n      <td>3</td>\n      <td>11</td>\n      <td>1</td>\n    </tr>\n  </tbody>\n</table>\n<p>2240 rows × 29 columns</p>\n</div>"
     },
     "execution_count": 28,
     "metadata": {},
     "output_type": "execute_result"
    }
   ],
   "source": [
    "data = pd.read_csv('ml_project1_data.csv')\n",
    "data"
   ],
   "metadata": {
    "collapsed": false,
    "ExecuteTime": {
     "end_time": "2024-03-01T07:16:40.613918Z",
     "start_time": "2024-03-01T07:16:40.573424Z"
    }
   },
   "id": "6c326578b894d56b",
   "execution_count": 28
  },
  {
   "cell_type": "code",
   "outputs": [
    {
     "data": {
      "text/plain": "ID                       int64\nYear_Birth               int64\nEducation               object\nMarital_Status          object\nIncome                 float64\nKidhome                  int64\nTeenhome                 int64\nDt_Customer             object\nRecency                  int64\nMntWines                 int64\nMntFruits                int64\nMntMeatProducts          int64\nMntFishProducts          int64\nMntSweetProducts         int64\nMntGoldProds             int64\nNumDealsPurchases        int64\nNumWebPurchases          int64\nNumCatalogPurchases      int64\nNumStorePurchases        int64\nNumWebVisitsMonth        int64\nAcceptedCmp3             int64\nAcceptedCmp4             int64\nAcceptedCmp5             int64\nAcceptedCmp1             int64\nAcceptedCmp2             int64\nComplain                 int64\nZ_CostContact            int64\nZ_Revenue                int64\nResponse                 int64\ndtype: object"
     },
     "execution_count": 29,
     "metadata": {},
     "output_type": "execute_result"
    }
   ],
   "source": [
    "data.dtypes"
   ],
   "metadata": {
    "collapsed": false,
    "ExecuteTime": {
     "end_time": "2024-03-01T07:16:44.159870Z",
     "start_time": "2024-03-01T07:16:44.150333Z"
    }
   },
   "id": "90e9b9de3d5e01fa",
   "execution_count": 29
  },
  {
   "cell_type": "markdown",
   "source": [
    "Features engineering"
   ],
   "metadata": {
    "collapsed": false
   },
   "id": "164aff64c64d876e"
  },
  {
   "cell_type": "code",
   "outputs": [
    {
     "data": {
      "text/plain": "0       67\n1       70\n2       59\n3       40\n4       43\n        ..\n2235    57\n2236    78\n2237    43\n2238    68\n2239    70\nName: Age, Length: 2240, dtype: int64"
     },
     "execution_count": 30,
     "metadata": {},
     "output_type": "execute_result"
    }
   ],
   "source": [
    "from datetime import date\n",
    "\n",
    "data['Age'] = date.today().year - data['Year_Birth']\n",
    "data['Age']\n"
   ],
   "metadata": {
    "collapsed": false,
    "ExecuteTime": {
     "end_time": "2024-03-01T07:19:08.585476Z",
     "start_time": "2024-03-01T07:19:08.566398Z"
    }
   },
   "id": "7562cec09b4a760",
   "execution_count": 30
  },
  {
   "cell_type": "code",
   "outputs": [],
   "source": [
    "data['Year'] = pd.DatetimeIndex(data['Dt_Customer']).year"
   ],
   "metadata": {
    "collapsed": false,
    "ExecuteTime": {
     "end_time": "2024-03-01T08:00:35.990289Z",
     "start_time": "2024-03-01T08:00:35.910390Z"
    }
   },
   "id": "616e8afa3a36687e",
   "execution_count": 32
  },
  {
   "cell_type": "markdown",
   "source": [
    "Handle Missing Value"
   ],
   "metadata": {
    "collapsed": false
   },
   "id": "e0a13301bd8d0e17"
  },
  {
   "cell_type": "code",
   "outputs": [
    {
     "data": {
      "text/plain": "0"
     },
     "execution_count": 34,
     "metadata": {},
     "output_type": "execute_result"
    }
   ],
   "source": [
    "data['Income'] = data['Income'].fillna(data['Income'].mean())\n",
    "data['Income'].isna().sum()"
   ],
   "metadata": {
    "collapsed": false,
    "ExecuteTime": {
     "end_time": "2024-03-01T08:01:43.730809Z",
     "start_time": "2024-03-01T08:01:43.705753Z"
    }
   },
   "id": "4c4be3095a8a86ec",
   "execution_count": 34
  },
  {
   "cell_type": "code",
   "outputs": [
    {
     "data": {
      "text/plain": "         ID  Year_Birth   Education Marital_Status   Income  Kidhome  \\\n0      5524        1957  Graduation         Single  58138.0        0   \n1      2174        1954  Graduation         Single  46344.0        1   \n2      4141        1965  Graduation       Together  71613.0        0   \n3      6182        1984  Graduation       Together  26646.0        1   \n4      5324        1981         PhD        Married  58293.0        1   \n...     ...         ...         ...            ...      ...      ...   \n2235  10870        1967  Graduation        Married  61223.0        0   \n2236   4001        1946         PhD       Together  64014.0        2   \n2237   7270        1981  Graduation       Divorced  56981.0        0   \n2238   8235        1956      Master       Together  69245.0        0   \n2239   9405        1954         PhD        Married  52869.0        1   \n\n      Teenhome Dt_Customer  Recency  MntWines  ...  AcceptedCmp4  \\\n0            0  2012-09-04       58       635  ...             0   \n1            1  2014-03-08       38        11  ...             0   \n2            0  2013-08-21       26       426  ...             0   \n3            0  2014-02-10       26        11  ...             0   \n4            0  2014-01-19       94       173  ...             0   \n...        ...         ...      ...       ...  ...           ...   \n2235         1  2013-06-13       46       709  ...             0   \n2236         1  2014-06-10       56       406  ...             0   \n2237         0  2014-01-25       91       908  ...             1   \n2238         1  2014-01-24        8       428  ...             0   \n2239         1  2012-10-15       40        84  ...             0   \n\n      AcceptedCmp5  AcceptedCmp1  AcceptedCmp2  Complain  Z_CostContact  \\\n0                0             0             0         0              3   \n1                0             0             0         0              3   \n2                0             0             0         0              3   \n3                0             0             0         0              3   \n4                0             0             0         0              3   \n...            ...           ...           ...       ...            ...   \n2235             0             0             0         0              3   \n2236             0             1             0         0              3   \n2237             0             0             0         0              3   \n2238             0             0             0         0              3   \n2239             0             0             0         0              3   \n\n      Z_Revenue  Response  Age  Year  \n0            11         1   67  2012  \n1            11         0   70  2014  \n2            11         0   59  2013  \n3            11         0   40  2014  \n4            11         0   43  2014  \n...         ...       ...  ...   ...  \n2235         11         0   57  2013  \n2236         11         0   78  2014  \n2237         11         0   43  2014  \n2238         11         0   68  2014  \n2239         11         1   70  2012  \n\n[2240 rows x 31 columns]",
      "text/html": "<div>\n<style scoped>\n    .dataframe tbody tr th:only-of-type {\n        vertical-align: middle;\n    }\n\n    .dataframe tbody tr th {\n        vertical-align: top;\n    }\n\n    .dataframe thead th {\n        text-align: right;\n    }\n</style>\n<table border=\"1\" class=\"dataframe\">\n  <thead>\n    <tr style=\"text-align: right;\">\n      <th></th>\n      <th>ID</th>\n      <th>Year_Birth</th>\n      <th>Education</th>\n      <th>Marital_Status</th>\n      <th>Income</th>\n      <th>Kidhome</th>\n      <th>Teenhome</th>\n      <th>Dt_Customer</th>\n      <th>Recency</th>\n      <th>MntWines</th>\n      <th>...</th>\n      <th>AcceptedCmp4</th>\n      <th>AcceptedCmp5</th>\n      <th>AcceptedCmp1</th>\n      <th>AcceptedCmp2</th>\n      <th>Complain</th>\n      <th>Z_CostContact</th>\n      <th>Z_Revenue</th>\n      <th>Response</th>\n      <th>Age</th>\n      <th>Year</th>\n    </tr>\n  </thead>\n  <tbody>\n    <tr>\n      <th>0</th>\n      <td>5524</td>\n      <td>1957</td>\n      <td>Graduation</td>\n      <td>Single</td>\n      <td>58138.0</td>\n      <td>0</td>\n      <td>0</td>\n      <td>2012-09-04</td>\n      <td>58</td>\n      <td>635</td>\n      <td>...</td>\n      <td>0</td>\n      <td>0</td>\n      <td>0</td>\n      <td>0</td>\n      <td>0</td>\n      <td>3</td>\n      <td>11</td>\n      <td>1</td>\n      <td>67</td>\n      <td>2012</td>\n    </tr>\n    <tr>\n      <th>1</th>\n      <td>2174</td>\n      <td>1954</td>\n      <td>Graduation</td>\n      <td>Single</td>\n      <td>46344.0</td>\n      <td>1</td>\n      <td>1</td>\n      <td>2014-03-08</td>\n      <td>38</td>\n      <td>11</td>\n      <td>...</td>\n      <td>0</td>\n      <td>0</td>\n      <td>0</td>\n      <td>0</td>\n      <td>0</td>\n      <td>3</td>\n      <td>11</td>\n      <td>0</td>\n      <td>70</td>\n      <td>2014</td>\n    </tr>\n    <tr>\n      <th>2</th>\n      <td>4141</td>\n      <td>1965</td>\n      <td>Graduation</td>\n      <td>Together</td>\n      <td>71613.0</td>\n      <td>0</td>\n      <td>0</td>\n      <td>2013-08-21</td>\n      <td>26</td>\n      <td>426</td>\n      <td>...</td>\n      <td>0</td>\n      <td>0</td>\n      <td>0</td>\n      <td>0</td>\n      <td>0</td>\n      <td>3</td>\n      <td>11</td>\n      <td>0</td>\n      <td>59</td>\n      <td>2013</td>\n    </tr>\n    <tr>\n      <th>3</th>\n      <td>6182</td>\n      <td>1984</td>\n      <td>Graduation</td>\n      <td>Together</td>\n      <td>26646.0</td>\n      <td>1</td>\n      <td>0</td>\n      <td>2014-02-10</td>\n      <td>26</td>\n      <td>11</td>\n      <td>...</td>\n      <td>0</td>\n      <td>0</td>\n      <td>0</td>\n      <td>0</td>\n      <td>0</td>\n      <td>3</td>\n      <td>11</td>\n      <td>0</td>\n      <td>40</td>\n      <td>2014</td>\n    </tr>\n    <tr>\n      <th>4</th>\n      <td>5324</td>\n      <td>1981</td>\n      <td>PhD</td>\n      <td>Married</td>\n      <td>58293.0</td>\n      <td>1</td>\n      <td>0</td>\n      <td>2014-01-19</td>\n      <td>94</td>\n      <td>173</td>\n      <td>...</td>\n      <td>0</td>\n      <td>0</td>\n      <td>0</td>\n      <td>0</td>\n      <td>0</td>\n      <td>3</td>\n      <td>11</td>\n      <td>0</td>\n      <td>43</td>\n      <td>2014</td>\n    </tr>\n    <tr>\n      <th>...</th>\n      <td>...</td>\n      <td>...</td>\n      <td>...</td>\n      <td>...</td>\n      <td>...</td>\n      <td>...</td>\n      <td>...</td>\n      <td>...</td>\n      <td>...</td>\n      <td>...</td>\n      <td>...</td>\n      <td>...</td>\n      <td>...</td>\n      <td>...</td>\n      <td>...</td>\n      <td>...</td>\n      <td>...</td>\n      <td>...</td>\n      <td>...</td>\n      <td>...</td>\n      <td>...</td>\n    </tr>\n    <tr>\n      <th>2235</th>\n      <td>10870</td>\n      <td>1967</td>\n      <td>Graduation</td>\n      <td>Married</td>\n      <td>61223.0</td>\n      <td>0</td>\n      <td>1</td>\n      <td>2013-06-13</td>\n      <td>46</td>\n      <td>709</td>\n      <td>...</td>\n      <td>0</td>\n      <td>0</td>\n      <td>0</td>\n      <td>0</td>\n      <td>0</td>\n      <td>3</td>\n      <td>11</td>\n      <td>0</td>\n      <td>57</td>\n      <td>2013</td>\n    </tr>\n    <tr>\n      <th>2236</th>\n      <td>4001</td>\n      <td>1946</td>\n      <td>PhD</td>\n      <td>Together</td>\n      <td>64014.0</td>\n      <td>2</td>\n      <td>1</td>\n      <td>2014-06-10</td>\n      <td>56</td>\n      <td>406</td>\n      <td>...</td>\n      <td>0</td>\n      <td>0</td>\n      <td>1</td>\n      <td>0</td>\n      <td>0</td>\n      <td>3</td>\n      <td>11</td>\n      <td>0</td>\n      <td>78</td>\n      <td>2014</td>\n    </tr>\n    <tr>\n      <th>2237</th>\n      <td>7270</td>\n      <td>1981</td>\n      <td>Graduation</td>\n      <td>Divorced</td>\n      <td>56981.0</td>\n      <td>0</td>\n      <td>0</td>\n      <td>2014-01-25</td>\n      <td>91</td>\n      <td>908</td>\n      <td>...</td>\n      <td>1</td>\n      <td>0</td>\n      <td>0</td>\n      <td>0</td>\n      <td>0</td>\n      <td>3</td>\n      <td>11</td>\n      <td>0</td>\n      <td>43</td>\n      <td>2014</td>\n    </tr>\n    <tr>\n      <th>2238</th>\n      <td>8235</td>\n      <td>1956</td>\n      <td>Master</td>\n      <td>Together</td>\n      <td>69245.0</td>\n      <td>0</td>\n      <td>1</td>\n      <td>2014-01-24</td>\n      <td>8</td>\n      <td>428</td>\n      <td>...</td>\n      <td>0</td>\n      <td>0</td>\n      <td>0</td>\n      <td>0</td>\n      <td>0</td>\n      <td>3</td>\n      <td>11</td>\n      <td>0</td>\n      <td>68</td>\n      <td>2014</td>\n    </tr>\n    <tr>\n      <th>2239</th>\n      <td>9405</td>\n      <td>1954</td>\n      <td>PhD</td>\n      <td>Married</td>\n      <td>52869.0</td>\n      <td>1</td>\n      <td>1</td>\n      <td>2012-10-15</td>\n      <td>40</td>\n      <td>84</td>\n      <td>...</td>\n      <td>0</td>\n      <td>0</td>\n      <td>0</td>\n      <td>0</td>\n      <td>0</td>\n      <td>3</td>\n      <td>11</td>\n      <td>1</td>\n      <td>70</td>\n      <td>2012</td>\n    </tr>\n  </tbody>\n</table>\n<p>2240 rows × 31 columns</p>\n</div>"
     },
     "execution_count": 35,
     "metadata": {},
     "output_type": "execute_result"
    }
   ],
   "source": [
    "data"
   ],
   "metadata": {
    "collapsed": false,
    "ExecuteTime": {
     "end_time": "2024-03-01T08:01:46.798419Z",
     "start_time": "2024-03-01T08:01:46.766099Z"
    }
   },
   "id": "cc1d431387a1ddcf",
   "execution_count": 35
  },
  {
   "cell_type": "code",
   "outputs": [
    {
     "data": {
      "text/plain": "array(['Graduation', 'PhD', 'Master', 'Basic', '2n Cycle'], dtype=object)"
     },
     "execution_count": 36,
     "metadata": {},
     "output_type": "execute_result"
    }
   ],
   "source": [
    "data['Education'].unique()"
   ],
   "metadata": {
    "collapsed": false,
    "ExecuteTime": {
     "end_time": "2024-03-01T08:03:01.421735Z",
     "start_time": "2024-03-01T08:03:01.401461Z"
    }
   },
   "id": "2fea745401e58297",
   "execution_count": 36
  },
  {
   "cell_type": "code",
   "outputs": [
    {
     "data": {
      "text/plain": "array(['Single', 'Together', 'Married', 'Divorced', 'Widow', 'Alone',\n       'Absurd', 'YOLO'], dtype=object)"
     },
     "execution_count": 37,
     "metadata": {},
     "output_type": "execute_result"
    }
   ],
   "source": [
    "data['Marital_Status'].unique()"
   ],
   "metadata": {
    "collapsed": false,
    "ExecuteTime": {
     "end_time": "2024-03-01T08:03:19.848492Z",
     "start_time": "2024-03-01T08:03:19.831454Z"
    }
   },
   "id": "640e91a9abe99518",
   "execution_count": 37
  },
  {
   "cell_type": "code",
   "outputs": [],
   "source": [],
   "metadata": {
    "collapsed": false
   },
   "id": "594334d10bf1798a"
  }
 ],
 "metadata": {
  "kernelspec": {
   "display_name": "Python 3",
   "language": "python",
   "name": "python3"
  },
  "language_info": {
   "codemirror_mode": {
    "name": "ipython",
    "version": 2
   },
   "file_extension": ".py",
   "mimetype": "text/x-python",
   "name": "python",
   "nbconvert_exporter": "python",
   "pygments_lexer": "ipython2",
   "version": "2.7.6"
  }
 },
 "nbformat": 4,
 "nbformat_minor": 5
}

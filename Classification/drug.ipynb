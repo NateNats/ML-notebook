{
 "cells": [
  {
   "cell_type": "code",
   "execution_count": 55,
   "id": "initial_id",
   "metadata": {
    "collapsed": true,
    "ExecuteTime": {
     "end_time": "2024-03-27T04:01:22.496415Z",
     "start_time": "2024-03-27T04:01:22.481414Z"
    }
   },
   "outputs": [],
   "source": [
    "import pandas as pd\n",
    "import numpy as np\n",
    "import matplotlib.pyplot as plt\n",
    "import seaborn as sns\n",
    "from sklearn.preprocessing import LabelEncoder\n",
    "from sklearn.preprocessing import MinMaxScaler \n",
    "from sklearn.model_selection import train_test_split\n",
    "from sklearn.ensemble import RandomForestClassifier\n",
    "from sklearn.model_selection import cross_val_score\n",
    "from sklearn.tree import DecisionTreeClassifier\n",
    "from sklearn.metrics import accuracy_score\n",
    "from sklearn.linear_model import LinearRegression\n",
    "import warnings\n",
    "warnings.filterwarnings('ignore')"
   ]
  },
  {
   "cell_type": "code",
   "outputs": [
    {
     "data": {
      "text/plain": "     Age Sex      BP Cholesterol  Na_to_K   Drug\n0     23   F    HIGH        HIGH   25.355  DrugY\n1     47   M     LOW        HIGH   13.093  drugC\n2     47   M     LOW        HIGH   10.114  drugC\n3     28   F  NORMAL        HIGH    7.798  drugX\n4     61   F     LOW        HIGH   18.043  DrugY\n..   ...  ..     ...         ...      ...    ...\n195   56   F     LOW        HIGH   11.567  drugC\n196   16   M     LOW        HIGH   12.006  drugC\n197   52   M  NORMAL        HIGH    9.894  drugX\n198   23   M  NORMAL      NORMAL   14.020  drugX\n199   40   F     LOW      NORMAL   11.349  drugX\n\n[200 rows x 6 columns]",
      "text/html": "<div>\n<style scoped>\n    .dataframe tbody tr th:only-of-type {\n        vertical-align: middle;\n    }\n\n    .dataframe tbody tr th {\n        vertical-align: top;\n    }\n\n    .dataframe thead th {\n        text-align: right;\n    }\n</style>\n<table border=\"1\" class=\"dataframe\">\n  <thead>\n    <tr style=\"text-align: right;\">\n      <th></th>\n      <th>Age</th>\n      <th>Sex</th>\n      <th>BP</th>\n      <th>Cholesterol</th>\n      <th>Na_to_K</th>\n      <th>Drug</th>\n    </tr>\n  </thead>\n  <tbody>\n    <tr>\n      <th>0</th>\n      <td>23</td>\n      <td>F</td>\n      <td>HIGH</td>\n      <td>HIGH</td>\n      <td>25.355</td>\n      <td>DrugY</td>\n    </tr>\n    <tr>\n      <th>1</th>\n      <td>47</td>\n      <td>M</td>\n      <td>LOW</td>\n      <td>HIGH</td>\n      <td>13.093</td>\n      <td>drugC</td>\n    </tr>\n    <tr>\n      <th>2</th>\n      <td>47</td>\n      <td>M</td>\n      <td>LOW</td>\n      <td>HIGH</td>\n      <td>10.114</td>\n      <td>drugC</td>\n    </tr>\n    <tr>\n      <th>3</th>\n      <td>28</td>\n      <td>F</td>\n      <td>NORMAL</td>\n      <td>HIGH</td>\n      <td>7.798</td>\n      <td>drugX</td>\n    </tr>\n    <tr>\n      <th>4</th>\n      <td>61</td>\n      <td>F</td>\n      <td>LOW</td>\n      <td>HIGH</td>\n      <td>18.043</td>\n      <td>DrugY</td>\n    </tr>\n    <tr>\n      <th>...</th>\n      <td>...</td>\n      <td>...</td>\n      <td>...</td>\n      <td>...</td>\n      <td>...</td>\n      <td>...</td>\n    </tr>\n    <tr>\n      <th>195</th>\n      <td>56</td>\n      <td>F</td>\n      <td>LOW</td>\n      <td>HIGH</td>\n      <td>11.567</td>\n      <td>drugC</td>\n    </tr>\n    <tr>\n      <th>196</th>\n      <td>16</td>\n      <td>M</td>\n      <td>LOW</td>\n      <td>HIGH</td>\n      <td>12.006</td>\n      <td>drugC</td>\n    </tr>\n    <tr>\n      <th>197</th>\n      <td>52</td>\n      <td>M</td>\n      <td>NORMAL</td>\n      <td>HIGH</td>\n      <td>9.894</td>\n      <td>drugX</td>\n    </tr>\n    <tr>\n      <th>198</th>\n      <td>23</td>\n      <td>M</td>\n      <td>NORMAL</td>\n      <td>NORMAL</td>\n      <td>14.020</td>\n      <td>drugX</td>\n    </tr>\n    <tr>\n      <th>199</th>\n      <td>40</td>\n      <td>F</td>\n      <td>LOW</td>\n      <td>NORMAL</td>\n      <td>11.349</td>\n      <td>drugX</td>\n    </tr>\n  </tbody>\n</table>\n<p>200 rows × 6 columns</p>\n</div>"
     },
     "execution_count": 56,
     "metadata": {},
     "output_type": "execute_result"
    }
   ],
   "source": [
    "data = pd.read_csv('drug200.csv')\n",
    "data"
   ],
   "metadata": {
    "collapsed": false,
    "ExecuteTime": {
     "end_time": "2024-03-27T04:01:22.791059Z",
     "start_time": "2024-03-27T04:01:22.771057Z"
    }
   },
   "id": "8f96d7589292c80a",
   "execution_count": 56
  },
  {
   "cell_type": "code",
   "outputs": [
    {
     "name": "stdout",
     "output_type": "stream",
     "text": [
      "<class 'pandas.core.frame.DataFrame'>\n",
      "RangeIndex: 200 entries, 0 to 199\n",
      "Data columns (total 6 columns):\n",
      " #   Column       Non-Null Count  Dtype  \n",
      "---  ------       --------------  -----  \n",
      " 0   Age          200 non-null    int64  \n",
      " 1   Sex          200 non-null    object \n",
      " 2   BP           200 non-null    object \n",
      " 3   Cholesterol  200 non-null    object \n",
      " 4   Na_to_K      200 non-null    float64\n",
      " 5   Drug         200 non-null    object \n",
      "dtypes: float64(1), int64(1), object(4)\n",
      "memory usage: 9.5+ KB\n"
     ]
    }
   ],
   "source": [
    "data.info()"
   ],
   "metadata": {
    "collapsed": false,
    "ExecuteTime": {
     "end_time": "2024-03-27T04:01:23.796982Z",
     "start_time": "2024-03-27T04:01:23.780985Z"
    }
   },
   "id": "cc97031b36483382",
   "execution_count": 57
  },
  {
   "cell_type": "code",
   "outputs": [
    {
     "data": {
      "text/plain": "Age            0\nSex            0\nBP             0\nCholesterol    0\nNa_to_K        0\nDrug           0\ndtype: int64"
     },
     "execution_count": 58,
     "metadata": {},
     "output_type": "execute_result"
    }
   ],
   "source": [
    "data.isna().sum()"
   ],
   "metadata": {
    "collapsed": false,
    "ExecuteTime": {
     "end_time": "2024-03-27T04:01:24.360973Z",
     "start_time": "2024-03-27T04:01:24.337974Z"
    }
   },
   "id": "f1bfd359803fcd3c",
   "execution_count": 58
  },
  {
   "cell_type": "code",
   "outputs": [
    {
     "data": {
      "text/plain": "Age            0\nSex            0\nBP             0\nCholesterol    0\nNa_to_K        0\nDrug           0\ndtype: int64"
     },
     "execution_count": 59,
     "metadata": {},
     "output_type": "execute_result"
    }
   ],
   "source": [
    "data.isnull().sum()"
   ],
   "metadata": {
    "collapsed": false,
    "ExecuteTime": {
     "end_time": "2024-03-27T04:01:25.162306Z",
     "start_time": "2024-03-27T04:01:25.141226Z"
    }
   },
   "id": "c2cb138aa9901ab",
   "execution_count": 59
  },
  {
   "cell_type": "code",
   "outputs": [
    {
     "data": {
      "text/plain": "<Axes: xlabel='Age', ylabel='Count'>"
     },
     "execution_count": 60,
     "metadata": {},
     "output_type": "execute_result"
    },
    {
     "data": {
      "text/plain": "<Figure size 1200x600 with 1 Axes>",
      "image/png": "[encoded data removed]"
     },
     "metadata": {},
     "output_type": "display_data"
    }
   ],
   "source": [
    "plt.figure(figsize=(12, 6))\n",
    "sns.histplot(data['Age'])"
   ],
   "metadata": {
    "collapsed": false,
    "ExecuteTime": {
     "end_time": "2024-03-27T04:01:26.757538Z",
     "start_time": "2024-03-27T04:01:26.525539Z"
    }
   },
   "id": "d1d9fe8d5e33caff",
   "execution_count": 60
  },
  {
   "cell_type": "code",
   "outputs": [
    {
     "data": {
      "text/plain": "<Axes: xlabel='Sex', ylabel='Count'>"
     },
     "execution_count": 61,
     "metadata": {},
     "output_type": "execute_result"
    },
    {
     "data": {
      "text/plain": "<Figure size 640x480 with 1 Axes>",
      "image/png": "[encoded data removed]"
     },
     "metadata": {},
     "output_type": "display_data"
    }
   ],
   "source": [
    "sns.histplot(data['Sex'])"
   ],
   "metadata": {
    "collapsed": false,
    "ExecuteTime": {
     "end_time": "2024-03-27T04:01:27.089788Z",
     "start_time": "2024-03-27T04:01:26.947789Z"
    }
   },
   "id": "508c066f9f9675f0",
   "execution_count": 61
  },
  {
   "cell_type": "code",
   "outputs": [
    {
     "data": {
      "text/plain": "<Axes: xlabel='BP', ylabel='Count'>"
     },
     "execution_count": 62,
     "metadata": {},
     "output_type": "execute_result"
    },
    {
     "data": {
      "text/plain": "<Figure size 640x480 with 1 Axes>",
      "image/png": "[encoded data removed]"
     },
     "metadata": {},
     "output_type": "display_data"
    }
   ],
   "source": [
    "sns.histplot(data['BP'])"
   ],
   "metadata": {
    "collapsed": false,
    "ExecuteTime": {
     "end_time": "2024-03-27T04:01:27.672809Z",
     "start_time": "2024-03-27T04:01:27.496783Z"
    }
   },
   "id": "70584628e39c1459",
   "execution_count": 62
  },
  {
   "cell_type": "code",
   "outputs": [
    {
     "data": {
      "text/plain": "<Axes: xlabel='Drug', ylabel='Count'>"
     },
     "execution_count": 63,
     "metadata": {},
     "output_type": "execute_result"
    },
    {
     "data": {
      "text/plain": "<Figure size 640x480 with 1 Axes>",
      "image/png": "[encoded data removed]"
     },
     "metadata": {},
     "output_type": "display_data"
    }
   ],
   "source": [
    "sns.histplot(data['Drug'])"
   ],
   "metadata": {
    "collapsed": false,
    "ExecuteTime": {
     "end_time": "2024-03-27T04:01:28.298500Z",
     "start_time": "2024-03-27T04:01:28.128498Z"
    }
   },
   "id": "456ad385590a8eea",
   "execution_count": 63
  },
  {
   "cell_type": "code",
   "outputs": [],
   "source": [
    "bin_age = [0, 19, 29, 39, 49, 59, 69, 80]\n",
    "cat_age = ['<20s', '20s', '30s', '40s', '50s', '60s', '>60s']\n"
   ],
   "metadata": {
    "collapsed": false
   },
   "id": "314d18fbfc417c45"
  },
  {
   "cell_type": "code",
   "outputs": [],
   "source": [
    "X = data.iloc[:, :-1]\n",
    "y = data.iloc[:, -1]"
   ],
   "metadata": {
    "collapsed": false,
    "ExecuteTime": {
     "end_time": "2024-03-27T04:01:28.975080Z",
     "start_time": "2024-03-27T04:01:28.965081Z"
    }
   },
   "id": "14722ec67174487a",
   "execution_count": 64
  },
  {
   "cell_type": "code",
   "outputs": [
    {
     "data": {
      "text/plain": "     Age Sex      BP Cholesterol  Na_to_K\n0     23   F    HIGH        HIGH   25.355\n1     47   M     LOW        HIGH   13.093\n2     47   M     LOW        HIGH   10.114\n3     28   F  NORMAL        HIGH    7.798\n4     61   F     LOW        HIGH   18.043\n..   ...  ..     ...         ...      ...\n195   56   F     LOW        HIGH   11.567\n196   16   M     LOW        HIGH   12.006\n197   52   M  NORMAL        HIGH    9.894\n198   23   M  NORMAL      NORMAL   14.020\n199   40   F     LOW      NORMAL   11.349\n\n[200 rows x 5 columns]",
      "text/html": "<div>\n<style scoped>\n    .dataframe tbody tr th:only-of-type {\n        vertical-align: middle;\n    }\n\n    .dataframe tbody tr th {\n        vertical-align: top;\n    }\n\n    .dataframe thead th {\n        text-align: right;\n    }\n</style>\n<table border=\"1\" class=\"dataframe\">\n  <thead>\n    <tr style=\"text-align: right;\">\n      <th></th>\n      <th>Age</th>\n      <th>Sex</th>\n      <th>BP</th>\n      <th>Cholesterol</th>\n      <th>Na_to_K</th>\n    </tr>\n  </thead>\n  <tbody>\n    <tr>\n      <th>0</th>\n      <td>23</td>\n      <td>F</td>\n      <td>HIGH</td>\n      <td>HIGH</td>\n      <td>25.355</td>\n    </tr>\n    <tr>\n      <th>1</th>\n      <td>47</td>\n      <td>M</td>\n      <td>LOW</td>\n      <td>HIGH</td>\n      <td>13.093</td>\n    </tr>\n    <tr>\n      <th>2</th>\n      <td>47</td>\n      <td>M</td>\n      <td>LOW</td>\n      <td>HIGH</td>\n      <td>10.114</td>\n    </tr>\n    <tr>\n      <th>3</th>\n      <td>28</td>\n      <td>F</td>\n      <td>NORMAL</td>\n      <td>HIGH</td>\n      <td>7.798</td>\n    </tr>\n    <tr>\n      <th>4</th>\n      <td>61</td>\n      <td>F</td>\n      <td>LOW</td>\n      <td>HIGH</td>\n      <td>18.043</td>\n    </tr>\n    <tr>\n      <th>...</th>\n      <td>...</td>\n      <td>...</td>\n      <td>...</td>\n      <td>...</td>\n      <td>...</td>\n    </tr>\n    <tr>\n      <th>195</th>\n      <td>56</td>\n      <td>F</td>\n      <td>LOW</td>\n      <td>HIGH</td>\n      <td>11.567</td>\n    </tr>\n    <tr>\n      <th>196</th>\n      <td>16</td>\n      <td>M</td>\n      <td>LOW</td>\n      <td>HIGH</td>\n      <td>12.006</td>\n    </tr>\n    <tr>\n      <th>197</th>\n      <td>52</td>\n      <td>M</td>\n      <td>NORMAL</td>\n      <td>HIGH</td>\n      <td>9.894</td>\n    </tr>\n    <tr>\n      <th>198</th>\n      <td>23</td>\n      <td>M</td>\n      <td>NORMAL</td>\n      <td>NORMAL</td>\n      <td>14.020</td>\n    </tr>\n    <tr>\n      <th>199</th>\n      <td>40</td>\n      <td>F</td>\n      <td>LOW</td>\n      <td>NORMAL</td>\n      <td>11.349</td>\n    </tr>\n  </tbody>\n</table>\n<p>200 rows × 5 columns</p>\n</div>"
     },
     "execution_count": 11,
     "metadata": {},
     "output_type": "execute_result"
    }
   ],
   "source": [
    "X"
   ],
   "metadata": {
    "collapsed": false,
    "ExecuteTime": {
     "end_time": "2024-03-27T03:25:27.546575Z",
     "start_time": "2024-03-27T03:25:27.528570Z"
    }
   },
   "id": "a0afa83d5df05200",
   "execution_count": 11
  },
  {
   "cell_type": "code",
   "outputs": [],
   "source": [
    "categorical = ['Sex', 'BP', 'Cholesterol']\n",
    "\n",
    "for col in categorical:\n",
    "    le = LabelEncoder()\n",
    "    X[col] = le.fit_transform(X[col])\n",
    "    X[col].astype(np.int64)"
   ],
   "metadata": {
    "collapsed": false,
    "ExecuteTime": {
     "end_time": "2024-03-27T03:25:27.975571Z",
     "start_time": "2024-03-27T03:25:27.958571Z"
    }
   },
   "id": "fb5eb1c90b41b119",
   "execution_count": 12
  },
  {
   "cell_type": "code",
   "outputs": [],
   "source": [
    "le = LabelEncoder()\n",
    "y = le.fit_transform(y)"
   ],
   "metadata": {
    "collapsed": false,
    "ExecuteTime": {
     "end_time": "2024-03-27T03:25:28.482569Z",
     "start_time": "2024-03-27T03:25:28.463570Z"
    }
   },
   "id": "115b463268410a0b",
   "execution_count": 13
  },
  {
   "cell_type": "code",
   "outputs": [
    {
     "data": {
      "text/plain": "array([0, 3, 3, 4, 0, 4, 0, 3, 0, 0, 3, 0, 0, 0, 4, 0, 4, 1, 3, 0, 0, 0,\n       0, 0, 0, 0, 0, 4, 0, 0, 4, 2, 4, 0, 4, 4, 1, 4, 4, 4, 0, 2, 0, 4,\n       4, 4, 1, 3, 0, 0, 0, 4, 0, 0, 2, 3, 2, 0, 4, 0, 0, 1, 0, 4, 2, 0,\n       1, 4, 0, 0, 2, 0, 4, 0, 0, 0, 1, 0, 1, 4, 2, 4, 3, 1, 3, 2, 4, 0,\n       0, 0, 0, 0, 0, 0, 0, 4, 0, 0, 0, 0, 1, 1, 3, 4, 0, 4, 4, 0, 2, 0,\n       1, 4, 4, 4, 4, 0, 4, 4, 1, 0, 0, 0, 0, 0, 2, 0, 0, 4, 0, 4, 0, 0,\n       4, 0, 0, 4, 2, 1, 2, 4, 1, 0, 2, 0, 1, 4, 4, 1, 4, 3, 1, 2, 4, 4,\n       0, 3, 1, 0, 3, 4, 4, 2, 4, 0, 0, 0, 0, 4, 0, 1, 4, 4, 0, 0, 1, 0,\n       1, 0, 0, 0, 0, 4, 4, 0, 0, 0, 2, 1, 0, 0, 0, 1, 0, 3, 0, 3, 3, 4,\n       4, 4])"
     },
     "execution_count": 14,
     "metadata": {},
     "output_type": "execute_result"
    }
   ],
   "source": [
    "y"
   ],
   "metadata": {
    "collapsed": false,
    "ExecuteTime": {
     "end_time": "2024-03-27T03:25:28.880571Z",
     "start_time": "2024-03-27T03:25:28.858572Z"
    }
   },
   "id": "8d78f58a19d14f8f",
   "execution_count": 14
  },
  {
   "cell_type": "code",
   "outputs": [
    {
     "data": {
      "text/plain": "     Age  Sex  BP  Cholesterol  Na_to_K\n0     23    0   0            0   25.355\n1     47    1   1            0   13.093\n2     47    1   1            0   10.114\n3     28    0   2            0    7.798\n4     61    0   1            0   18.043\n..   ...  ...  ..          ...      ...\n195   56    0   1            0   11.567\n196   16    1   1            0   12.006\n197   52    1   2            0    9.894\n198   23    1   2            1   14.020\n199   40    0   1            1   11.349\n\n[200 rows x 5 columns]",
      "text/html": "<div>\n<style scoped>\n    .dataframe tbody tr th:only-of-type {\n        vertical-align: middle;\n    }\n\n    .dataframe tbody tr th {\n        vertical-align: top;\n    }\n\n    .dataframe thead th {\n        text-align: right;\n    }\n</style>\n<table border=\"1\" class=\"dataframe\">\n  <thead>\n    <tr style=\"text-align: right;\">\n      <th></th>\n      <th>Age</th>\n      <th>Sex</th>\n      <th>BP</th>\n      <th>Cholesterol</th>\n      <th>Na_to_K</th>\n    </tr>\n  </thead>\n  <tbody>\n    <tr>\n      <th>0</th>\n      <td>23</td>\n      <td>0</td>\n      <td>0</td>\n      <td>0</td>\n      <td>25.355</td>\n    </tr>\n    <tr>\n      <th>1</th>\n      <td>47</td>\n      <td>1</td>\n      <td>1</td>\n      <td>0</td>\n      <td>13.093</td>\n    </tr>\n    <tr>\n      <th>2</th>\n      <td>47</td>\n      <td>1</td>\n      <td>1</td>\n      <td>0</td>\n      <td>10.114</td>\n    </tr>\n    <tr>\n      <th>3</th>\n      <td>28</td>\n      <td>0</td>\n      <td>2</td>\n      <td>0</td>\n      <td>7.798</td>\n    </tr>\n    <tr>\n      <th>4</th>\n      <td>61</td>\n      <td>0</td>\n      <td>1</td>\n      <td>0</td>\n      <td>18.043</td>\n    </tr>\n    <tr>\n      <th>...</th>\n      <td>...</td>\n      <td>...</td>\n      <td>...</td>\n      <td>...</td>\n      <td>...</td>\n    </tr>\n    <tr>\n      <th>195</th>\n      <td>56</td>\n      <td>0</td>\n      <td>1</td>\n      <td>0</td>\n      <td>11.567</td>\n    </tr>\n    <tr>\n      <th>196</th>\n      <td>16</td>\n      <td>1</td>\n      <td>1</td>\n      <td>0</td>\n      <td>12.006</td>\n    </tr>\n    <tr>\n      <th>197</th>\n      <td>52</td>\n      <td>1</td>\n      <td>2</td>\n      <td>0</td>\n      <td>9.894</td>\n    </tr>\n    <tr>\n      <th>198</th>\n      <td>23</td>\n      <td>1</td>\n      <td>2</td>\n      <td>1</td>\n      <td>14.020</td>\n    </tr>\n    <tr>\n      <th>199</th>\n      <td>40</td>\n      <td>0</td>\n      <td>1</td>\n      <td>1</td>\n      <td>11.349</td>\n    </tr>\n  </tbody>\n</table>\n<p>200 rows × 5 columns</p>\n</div>"
     },
     "execution_count": 15,
     "metadata": {},
     "output_type": "execute_result"
    }
   ],
   "source": [
    "X"
   ],
   "metadata": {
    "collapsed": false,
    "ExecuteTime": {
     "end_time": "2024-03-27T03:25:29.435570Z",
     "start_time": "2024-03-27T03:25:29.413572Z"
    }
   },
   "id": "5a4f545d66cd7af5",
   "execution_count": 15
  },
  {
   "cell_type": "code",
   "outputs": [
    {
     "name": "stdout",
     "output_type": "stream",
     "text": [
      "<class 'pandas.core.frame.DataFrame'>\n",
      "RangeIndex: 200 entries, 0 to 199\n",
      "Data columns (total 5 columns):\n",
      " #   Column       Non-Null Count  Dtype  \n",
      "---  ------       --------------  -----  \n",
      " 0   Age          200 non-null    int64  \n",
      " 1   Sex          200 non-null    int32  \n",
      " 2   BP           200 non-null    int32  \n",
      " 3   Cholesterol  200 non-null    int32  \n",
      " 4   Na_to_K      200 non-null    float64\n",
      "dtypes: float64(1), int32(3), int64(1)\n",
      "memory usage: 5.6 KB\n"
     ]
    }
   ],
   "source": [
    "X.info()"
   ],
   "metadata": {
    "collapsed": false,
    "ExecuteTime": {
     "end_time": "2024-03-27T03:25:29.975570Z",
     "start_time": "2024-03-27T03:25:29.956571Z"
    }
   },
   "id": "974f74a6e241e41e",
   "execution_count": 16
  },
  {
   "cell_type": "code",
   "outputs": [
    {
     "data": {
      "text/plain": "<Axes: xlabel='Age', ylabel='Na_to_K'>"
     },
     "execution_count": 47,
     "metadata": {},
     "output_type": "execute_result"
    },
    {
     "data": {
      "text/plain": "<Figure size 640x480 with 1 Axes>",
      "image/png": "[encoded data removed]"
     },
     "metadata": {},
     "output_type": "display_data"
    }
   ],
   "source": [
    "sns.scatterplot(x=X['Age'], y=X['Na_to_K'])"
   ],
   "metadata": {
    "collapsed": false,
    "ExecuteTime": {
     "end_time": "2024-03-27T03:45:20.233193Z",
     "start_time": "2024-03-27T03:45:19.996195Z"
    }
   },
   "id": "80dc78cad0e32571",
   "execution_count": 47
  },
  {
   "cell_type": "code",
   "outputs": [],
   "source": [
    "minmax = MinMaxScaler()\n",
    "X = pd.DataFrame(minmax.fit_transform(X), columns=X.columns)"
   ],
   "metadata": {
    "collapsed": false,
    "ExecuteTime": {
     "end_time": "2024-03-27T03:25:31.998574Z",
     "start_time": "2024-03-27T03:25:31.982571Z"
    }
   },
   "id": "659b6b19615670a3",
   "execution_count": 18
  },
  {
   "cell_type": "code",
   "outputs": [
    {
     "data": {
      "text/plain": "          Age  Sex   BP  Cholesterol   Na_to_K\n0    0.135593  0.0  0.0          0.0  0.596848\n1    0.542373  1.0  0.5          0.0  0.213397\n2    0.542373  1.0  0.5          0.0  0.120239\n3    0.220339  0.0  1.0          0.0  0.047814\n4    0.779661  0.0  0.5          0.0  0.368191\n..        ...  ...  ...          ...       ...\n195  0.694915  0.0  0.5          0.0  0.165676\n196  0.016949  1.0  0.5          0.0  0.179405\n197  0.627119  1.0  1.0          0.0  0.113359\n198  0.135593  1.0  1.0          1.0  0.242385\n199  0.423729  0.0  0.5          1.0  0.158859\n\n[200 rows x 5 columns]",
      "text/html": "<div>\n<style scoped>\n    .dataframe tbody tr th:only-of-type {\n        vertical-align: middle;\n    }\n\n    .dataframe tbody tr th {\n        vertical-align: top;\n    }\n\n    .dataframe thead th {\n        text-align: right;\n    }\n</style>\n<table border=\"1\" class=\"dataframe\">\n  <thead>\n    <tr style=\"text-align: right;\">\n      <th></th>\n      <th>Age</th>\n      <th>Sex</th>\n      <th>BP</th>\n      <th>Cholesterol</th>\n      <th>Na_to_K</th>\n    </tr>\n  </thead>\n  <tbody>\n    <tr>\n      <th>0</th>\n      <td>0.135593</td>\n      <td>0.0</td>\n      <td>0.0</td>\n      <td>0.0</td>\n      <td>0.596848</td>\n    </tr>\n    <tr>\n      <th>1</th>\n      <td>0.542373</td>\n      <td>1.0</td>\n      <td>0.5</td>\n      <td>0.0</td>\n      <td>0.213397</td>\n    </tr>\n    <tr>\n      <th>2</th>\n      <td>0.542373</td>\n      <td>1.0</td>\n      <td>0.5</td>\n      <td>0.0</td>\n      <td>0.120239</td>\n    </tr>\n    <tr>\n      <th>3</th>\n      <td>0.220339</td>\n      <td>0.0</td>\n      <td>1.0</td>\n      <td>0.0</td>\n      <td>0.047814</td>\n    </tr>\n    <tr>\n      <th>4</th>\n      <td>0.779661</td>\n      <td>0.0</td>\n      <td>0.5</td>\n      <td>0.0</td>\n      <td>0.368191</td>\n    </tr>\n    <tr>\n      <th>...</th>\n      <td>...</td>\n      <td>...</td>\n      <td>...</td>\n      <td>...</td>\n      <td>...</td>\n    </tr>\n    <tr>\n      <th>195</th>\n      <td>0.694915</td>\n      <td>0.0</td>\n      <td>0.5</td>\n      <td>0.0</td>\n      <td>0.165676</td>\n    </tr>\n    <tr>\n      <th>196</th>\n      <td>0.016949</td>\n      <td>1.0</td>\n      <td>0.5</td>\n      <td>0.0</td>\n      <td>0.179405</td>\n    </tr>\n    <tr>\n      <th>197</th>\n      <td>0.627119</td>\n      <td>1.0</td>\n      <td>1.0</td>\n      <td>0.0</td>\n      <td>0.113359</td>\n    </tr>\n    <tr>\n      <th>198</th>\n      <td>0.135593</td>\n      <td>1.0</td>\n      <td>1.0</td>\n      <td>1.0</td>\n      <td>0.242385</td>\n    </tr>\n    <tr>\n      <th>199</th>\n      <td>0.423729</td>\n      <td>0.0</td>\n      <td>0.5</td>\n      <td>1.0</td>\n      <td>0.158859</td>\n    </tr>\n  </tbody>\n</table>\n<p>200 rows × 5 columns</p>\n</div>"
     },
     "execution_count": 19,
     "metadata": {},
     "output_type": "execute_result"
    }
   ],
   "source": [
    "X"
   ],
   "metadata": {
    "collapsed": false,
    "ExecuteTime": {
     "end_time": "2024-03-27T03:25:32.938570Z",
     "start_time": "2024-03-27T03:25:32.921570Z"
    }
   },
   "id": "dbd72ce910c9af09",
   "execution_count": 19
  },
  {
   "cell_type": "code",
   "outputs": [
    {
     "data": {
      "text/plain": "          Age  Sex   BP  Cholesterol   Na_to_K\n169  0.084746  0.0  0.0          0.0  0.156139\n97   0.694915  0.0  0.0          0.0  0.598099\n31   1.000000  1.0  0.0          0.0  0.103133\n12   0.474576  1.0  0.5          0.0  0.284790\n35   0.525424  1.0  1.0          1.0  0.031772\n..        ...  ...  ...          ...       ...\n106  0.118644  1.0  1.0          0.0  0.177747\n14   0.593220  0.0  1.0          0.0  0.201201\n92   0.237288  0.0  0.0          0.0  0.724905\n179  0.881356  0.0  1.0          0.0  0.300894\n102  0.220339  0.0  0.5          0.0  0.214460\n\n[140 rows x 5 columns]",
      "text/html": "<div>\n<style scoped>\n    .dataframe tbody tr th:only-of-type {\n        vertical-align: middle;\n    }\n\n    .dataframe tbody tr th {\n        vertical-align: top;\n    }\n\n    .dataframe thead th {\n        text-align: right;\n    }\n</style>\n<table border=\"1\" class=\"dataframe\">\n  <thead>\n    <tr style=\"text-align: right;\">\n      <th></th>\n      <th>Age</th>\n      <th>Sex</th>\n      <th>BP</th>\n      <th>Cholesterol</th>\n      <th>Na_to_K</th>\n    </tr>\n  </thead>\n  <tbody>\n    <tr>\n      <th>169</th>\n      <td>0.084746</td>\n      <td>0.0</td>\n      <td>0.0</td>\n      <td>0.0</td>\n      <td>0.156139</td>\n    </tr>\n    <tr>\n      <th>97</th>\n      <td>0.694915</td>\n      <td>0.0</td>\n      <td>0.0</td>\n      <td>0.0</td>\n      <td>0.598099</td>\n    </tr>\n    <tr>\n      <th>31</th>\n      <td>1.000000</td>\n      <td>1.0</td>\n      <td>0.0</td>\n      <td>0.0</td>\n      <td>0.103133</td>\n    </tr>\n    <tr>\n      <th>12</th>\n      <td>0.474576</td>\n      <td>1.0</td>\n      <td>0.5</td>\n      <td>0.0</td>\n      <td>0.284790</td>\n    </tr>\n    <tr>\n      <th>35</th>\n      <td>0.525424</td>\n      <td>1.0</td>\n      <td>1.0</td>\n      <td>1.0</td>\n      <td>0.031772</td>\n    </tr>\n    <tr>\n      <th>...</th>\n      <td>...</td>\n      <td>...</td>\n      <td>...</td>\n      <td>...</td>\n      <td>...</td>\n    </tr>\n    <tr>\n      <th>106</th>\n      <td>0.118644</td>\n      <td>1.0</td>\n      <td>1.0</td>\n      <td>0.0</td>\n      <td>0.177747</td>\n    </tr>\n    <tr>\n      <th>14</th>\n      <td>0.593220</td>\n      <td>0.0</td>\n      <td>1.0</td>\n      <td>0.0</td>\n      <td>0.201201</td>\n    </tr>\n    <tr>\n      <th>92</th>\n      <td>0.237288</td>\n      <td>0.0</td>\n      <td>0.0</td>\n      <td>0.0</td>\n      <td>0.724905</td>\n    </tr>\n    <tr>\n      <th>179</th>\n      <td>0.881356</td>\n      <td>0.0</td>\n      <td>1.0</td>\n      <td>0.0</td>\n      <td>0.300894</td>\n    </tr>\n    <tr>\n      <th>102</th>\n      <td>0.220339</td>\n      <td>0.0</td>\n      <td>0.5</td>\n      <td>0.0</td>\n      <td>0.214460</td>\n    </tr>\n  </tbody>\n</table>\n<p>140 rows × 5 columns</p>\n</div>"
     },
     "execution_count": 28,
     "metadata": {},
     "output_type": "execute_result"
    }
   ],
   "source": [
    "X_train, X_test, y_train, y_test = train_test_split(X, y, test_size=0.3, random_state=42)\n",
    "X_train"
   ],
   "metadata": {
    "collapsed": false,
    "ExecuteTime": {
     "end_time": "2024-03-27T03:30:24.482537Z",
     "start_time": "2024-03-27T03:30:24.451536Z"
    }
   },
   "id": "8c2ec384a4185f13",
   "execution_count": 28
  },
  {
   "cell_type": "code",
   "outputs": [
    {
     "data": {
      "text/plain": "          Age  Sex   BP  Cholesterol   Na_to_K\n95   0.355932  1.0  0.5          1.0  0.161205\n15   0.016949  0.0  0.0          1.0  0.289168\n30   0.050847  0.0  1.0          1.0  0.077585\n158  0.745763  0.0  0.5          0.0  0.130559\n128  0.542373  1.0  0.5          1.0  0.852868\n115  0.610169  1.0  0.0          0.0  0.376071\n69   0.050847  0.0  0.0          1.0  0.563106\n170  0.220339  0.0  1.0          0.0  0.206705\n174  0.457627  1.0  0.0          1.0  0.203171\n45   0.864407  0.0  1.0          1.0  0.057477\n66   0.237288  1.0  0.0          0.0  0.205985\n182  0.084746  0.0  0.5          1.0  0.169398\n165  0.389831  1.0  0.5          0.0  0.376071\n78   0.067797  0.0  0.0          0.0  0.220276\n186  0.932203  1.0  0.0          0.0  0.111952\n177  0.169492  1.0  1.0          0.0  0.398461\n56   0.847458  1.0  0.0          1.0  0.158578\n152  0.677966  1.0  1.0          1.0  0.031021\n82   0.288136  0.0  0.5          0.0  0.107668\n68   0.661017  1.0  1.0          0.0  0.575052\n124  0.644068  0.0  0.0          1.0  0.194696\n16   0.915254  1.0  0.5          1.0  0.162174\n148  0.779661  0.0  0.5          1.0  0.033492\n93   0.457627  0.0  0.5          1.0  0.719307\n65   0.898305  0.0  1.0          1.0  0.649853\n60   0.389831  0.0  0.5          1.0  0.738195\n84   0.542373  0.0  0.5          0.0  0.118769\n67   0.033898  1.0  1.0          1.0  0.142692\n125  0.067797  0.0  0.0          1.0  0.616049\n132  0.576271  1.0  0.5          1.0  0.229189\n9    0.474576  1.0  0.5          1.0  0.409625\n18   0.135593  1.0  0.5          0.0  0.032178\n55   0.186441  0.0  0.5          0.0  0.246763\n75   0.186441  1.0  0.5          1.0  0.457815\n150  0.576271  1.0  0.0          1.0  0.076021\n104  0.118644  1.0  0.0          1.0  0.688755\n135  1.000000  1.0  0.5          1.0  0.177309\n137  0.338983  0.0  0.0          0.0  0.207174\n164  0.016949  1.0  0.0          1.0  0.398336\n76   0.355932  0.0  0.0          0.0  0.154137\n79   0.288136  0.0  0.5          1.0  0.142942\n197  0.627119  1.0  1.0          0.0  0.113359\n38   0.406780  0.0  1.0          1.0  0.107574\n24   0.305085  0.0  0.5          0.0  0.851116\n122  0.322034  1.0  1.0          0.0  0.506192\n195  0.694915  0.0  0.5          0.0  0.165676\n29   0.508475  1.0  0.5          0.0  0.365314\n19   0.288136  0.0  0.0          1.0  0.616205\n143  1.000000  1.0  0.0          1.0  0.286666\n86   0.610169  0.0  1.0          0.0  0.229158\n114  0.084746  0.0  1.0          1.0  0.094190\n173  0.440678  0.0  0.5          1.0  0.389956\n5    0.118644  0.0  1.0          0.0  0.073113\n126  0.864407  1.0  0.0          0.0  0.315154\n117  0.423729  0.0  1.0          0.0  0.119895\n73   0.440678  0.0  1.0          1.0  0.520233\n140  0.576271  1.0  0.0          1.0  0.000000\n98   0.084746  1.0  0.0          1.0  0.918444\n172  0.406780  0.0  1.0          1.0  0.342611\n96   0.728814  0.0  0.5          0.0  1.000000",
      "text/html": "<div>\n<style scoped>\n    .dataframe tbody tr th:only-of-type {\n        vertical-align: middle;\n    }\n\n    .dataframe tbody tr th {\n        vertical-align: top;\n    }\n\n    .dataframe thead th {\n        text-align: right;\n    }\n</style>\n<table border=\"1\" class=\"dataframe\">\n  <thead>\n    <tr style=\"text-align: right;\">\n      <th></th>\n      <th>Age</th>\n      <th>Sex</th>\n      <th>BP</th>\n      <th>Cholesterol</th>\n      <th>Na_to_K</th>\n    </tr>\n  </thead>\n  <tbody>\n    <tr>\n      <th>95</th>\n      <td>0.355932</td>\n      <td>1.0</td>\n      <td>0.5</td>\n      <td>1.0</td>\n      <td>0.161205</td>\n    </tr>\n    <tr>\n      <th>15</th>\n      <td>0.016949</td>\n      <td>0.0</td>\n      <td>0.0</td>\n      <td>1.0</td>\n      <td>0.289168</td>\n    </tr>\n    <tr>\n      <th>30</th>\n      <td>0.050847</td>\n      <td>0.0</td>\n      <td>1.0</td>\n      <td>1.0</td>\n      <td>0.077585</td>\n    </tr>\n    <tr>\n      <th>158</th>\n      <td>0.745763</td>\n      <td>0.0</td>\n      <td>0.5</td>\n      <td>0.0</td>\n      <td>0.130559</td>\n    </tr>\n    <tr>\n      <th>128</th>\n      <td>0.542373</td>\n      <td>1.0</td>\n      <td>0.5</td>\n      <td>1.0</td>\n      <td>0.852868</td>\n    </tr>\n    <tr>\n      <th>115</th>\n      <td>0.610169</td>\n      <td>1.0</td>\n      <td>0.0</td>\n      <td>0.0</td>\n      <td>0.376071</td>\n    </tr>\n    <tr>\n      <th>69</th>\n      <td>0.050847</td>\n      <td>0.0</td>\n      <td>0.0</td>\n      <td>1.0</td>\n      <td>0.563106</td>\n    </tr>\n    <tr>\n      <th>170</th>\n      <td>0.220339</td>\n      <td>0.0</td>\n      <td>1.0</td>\n      <td>0.0</td>\n      <td>0.206705</td>\n    </tr>\n    <tr>\n      <th>174</th>\n      <td>0.457627</td>\n      <td>1.0</td>\n      <td>0.0</td>\n      <td>1.0</td>\n      <td>0.203171</td>\n    </tr>\n    <tr>\n      <th>45</th>\n      <td>0.864407</td>\n      <td>0.0</td>\n      <td>1.0</td>\n      <td>1.0</td>\n      <td>0.057477</td>\n    </tr>\n    <tr>\n      <th>66</th>\n      <td>0.237288</td>\n      <td>1.0</td>\n      <td>0.0</td>\n      <td>0.0</td>\n      <td>0.205985</td>\n    </tr>\n    <tr>\n      <th>182</th>\n      <td>0.084746</td>\n      <td>0.0</td>\n      <td>0.5</td>\n      <td>1.0</td>\n      <td>0.169398</td>\n    </tr>\n    <tr>\n      <th>165</th>\n      <td>0.389831</td>\n      <td>1.0</td>\n      <td>0.5</td>\n      <td>0.0</td>\n      <td>0.376071</td>\n    </tr>\n    <tr>\n      <th>78</th>\n      <td>0.067797</td>\n      <td>0.0</td>\n      <td>0.0</td>\n      <td>0.0</td>\n      <td>0.220276</td>\n    </tr>\n    <tr>\n      <th>186</th>\n      <td>0.932203</td>\n      <td>1.0</td>\n      <td>0.0</td>\n      <td>0.0</td>\n      <td>0.111952</td>\n    </tr>\n    <tr>\n      <th>177</th>\n      <td>0.169492</td>\n      <td>1.0</td>\n      <td>1.0</td>\n      <td>0.0</td>\n      <td>0.398461</td>\n    </tr>\n    <tr>\n      <th>56</th>\n      <td>0.847458</td>\n      <td>1.0</td>\n      <td>0.0</td>\n      <td>1.0</td>\n      <td>0.158578</td>\n    </tr>\n    <tr>\n      <th>152</th>\n      <td>0.677966</td>\n      <td>1.0</td>\n      <td>1.0</td>\n      <td>1.0</td>\n      <td>0.031021</td>\n    </tr>\n    <tr>\n      <th>82</th>\n      <td>0.288136</td>\n      <td>0.0</td>\n      <td>0.5</td>\n      <td>0.0</td>\n      <td>0.107668</td>\n    </tr>\n    <tr>\n      <th>68</th>\n      <td>0.661017</td>\n      <td>1.0</td>\n      <td>1.0</td>\n      <td>0.0</td>\n      <td>0.575052</td>\n    </tr>\n    <tr>\n      <th>124</th>\n      <td>0.644068</td>\n      <td>0.0</td>\n      <td>0.0</td>\n      <td>1.0</td>\n      <td>0.194696</td>\n    </tr>\n    <tr>\n      <th>16</th>\n      <td>0.915254</td>\n      <td>1.0</td>\n      <td>0.5</td>\n      <td>1.0</td>\n      <td>0.162174</td>\n    </tr>\n    <tr>\n      <th>148</th>\n      <td>0.779661</td>\n      <td>0.0</td>\n      <td>0.5</td>\n      <td>1.0</td>\n      <td>0.033492</td>\n    </tr>\n    <tr>\n      <th>93</th>\n      <td>0.457627</td>\n      <td>0.0</td>\n      <td>0.5</td>\n      <td>1.0</td>\n      <td>0.719307</td>\n    </tr>\n    <tr>\n      <th>65</th>\n      <td>0.898305</td>\n      <td>0.0</td>\n      <td>1.0</td>\n      <td>1.0</td>\n      <td>0.649853</td>\n    </tr>\n    <tr>\n      <th>60</th>\n      <td>0.389831</td>\n      <td>0.0</td>\n      <td>0.5</td>\n      <td>1.0</td>\n      <td>0.738195</td>\n    </tr>\n    <tr>\n      <th>84</th>\n      <td>0.542373</td>\n      <td>0.0</td>\n      <td>0.5</td>\n      <td>0.0</td>\n      <td>0.118769</td>\n    </tr>\n    <tr>\n      <th>67</th>\n      <td>0.033898</td>\n      <td>1.0</td>\n      <td>1.0</td>\n      <td>1.0</td>\n      <td>0.142692</td>\n    </tr>\n    <tr>\n      <th>125</th>\n      <td>0.067797</td>\n      <td>0.0</td>\n      <td>0.0</td>\n      <td>1.0</td>\n      <td>0.616049</td>\n    </tr>\n    <tr>\n      <th>132</th>\n      <td>0.576271</td>\n      <td>1.0</td>\n      <td>0.5</td>\n      <td>1.0</td>\n      <td>0.229189</td>\n    </tr>\n    <tr>\n      <th>9</th>\n      <td>0.474576</td>\n      <td>1.0</td>\n      <td>0.5</td>\n      <td>1.0</td>\n      <td>0.409625</td>\n    </tr>\n    <tr>\n      <th>18</th>\n      <td>0.135593</td>\n      <td>1.0</td>\n      <td>0.5</td>\n      <td>0.0</td>\n      <td>0.032178</td>\n    </tr>\n    <tr>\n      <th>55</th>\n      <td>0.186441</td>\n      <td>0.0</td>\n      <td>0.5</td>\n      <td>0.0</td>\n      <td>0.246763</td>\n    </tr>\n    <tr>\n      <th>75</th>\n      <td>0.186441</td>\n      <td>1.0</td>\n      <td>0.5</td>\n      <td>1.0</td>\n      <td>0.457815</td>\n    </tr>\n    <tr>\n      <th>150</th>\n      <td>0.576271</td>\n      <td>1.0</td>\n      <td>0.0</td>\n      <td>1.0</td>\n      <td>0.076021</td>\n    </tr>\n    <tr>\n      <th>104</th>\n      <td>0.118644</td>\n      <td>1.0</td>\n      <td>0.0</td>\n      <td>1.0</td>\n      <td>0.688755</td>\n    </tr>\n    <tr>\n      <th>135</th>\n      <td>1.000000</td>\n      <td>1.0</td>\n      <td>0.5</td>\n      <td>1.0</td>\n      <td>0.177309</td>\n    </tr>\n    <tr>\n      <th>137</th>\n      <td>0.338983</td>\n      <td>0.0</td>\n      <td>0.0</td>\n      <td>0.0</td>\n      <td>0.207174</td>\n    </tr>\n    <tr>\n      <th>164</th>\n      <td>0.016949</td>\n      <td>1.0</td>\n      <td>0.0</td>\n      <td>1.0</td>\n      <td>0.398336</td>\n    </tr>\n    <tr>\n      <th>76</th>\n      <td>0.355932</td>\n      <td>0.0</td>\n      <td>0.0</td>\n      <td>0.0</td>\n      <td>0.154137</td>\n    </tr>\n    <tr>\n      <th>79</th>\n      <td>0.288136</td>\n      <td>0.0</td>\n      <td>0.5</td>\n      <td>1.0</td>\n      <td>0.142942</td>\n    </tr>\n    <tr>\n      <th>197</th>\n      <td>0.627119</td>\n      <td>1.0</td>\n      <td>1.0</td>\n      <td>0.0</td>\n      <td>0.113359</td>\n    </tr>\n    <tr>\n      <th>38</th>\n      <td>0.406780</td>\n      <td>0.0</td>\n      <td>1.0</td>\n      <td>1.0</td>\n      <td>0.107574</td>\n    </tr>\n    <tr>\n      <th>24</th>\n      <td>0.305085</td>\n      <td>0.0</td>\n      <td>0.5</td>\n      <td>0.0</td>\n      <td>0.851116</td>\n    </tr>\n    <tr>\n      <th>122</th>\n      <td>0.322034</td>\n      <td>1.0</td>\n      <td>1.0</td>\n      <td>0.0</td>\n      <td>0.506192</td>\n    </tr>\n    <tr>\n      <th>195</th>\n      <td>0.694915</td>\n      <td>0.0</td>\n      <td>0.5</td>\n      <td>0.0</td>\n      <td>0.165676</td>\n    </tr>\n    <tr>\n      <th>29</th>\n      <td>0.508475</td>\n      <td>1.0</td>\n      <td>0.5</td>\n      <td>0.0</td>\n      <td>0.365314</td>\n    </tr>\n    <tr>\n      <th>19</th>\n      <td>0.288136</td>\n      <td>0.0</td>\n      <td>0.0</td>\n      <td>1.0</td>\n      <td>0.616205</td>\n    </tr>\n    <tr>\n      <th>143</th>\n      <td>1.000000</td>\n      <td>1.0</td>\n      <td>0.0</td>\n      <td>1.0</td>\n      <td>0.286666</td>\n    </tr>\n    <tr>\n      <th>86</th>\n      <td>0.610169</td>\n      <td>0.0</td>\n      <td>1.0</td>\n      <td>0.0</td>\n      <td>0.229158</td>\n    </tr>\n    <tr>\n      <th>114</th>\n      <td>0.084746</td>\n      <td>0.0</td>\n      <td>1.0</td>\n      <td>1.0</td>\n      <td>0.094190</td>\n    </tr>\n    <tr>\n      <th>173</th>\n      <td>0.440678</td>\n      <td>0.0</td>\n      <td>0.5</td>\n      <td>1.0</td>\n      <td>0.389956</td>\n    </tr>\n    <tr>\n      <th>5</th>\n      <td>0.118644</td>\n      <td>0.0</td>\n      <td>1.0</td>\n      <td>0.0</td>\n      <td>0.073113</td>\n    </tr>\n    <tr>\n      <th>126</th>\n      <td>0.864407</td>\n      <td>1.0</td>\n      <td>0.0</td>\n      <td>0.0</td>\n      <td>0.315154</td>\n    </tr>\n    <tr>\n      <th>117</th>\n      <td>0.423729</td>\n      <td>0.0</td>\n      <td>1.0</td>\n      <td>0.0</td>\n      <td>0.119895</td>\n    </tr>\n    <tr>\n      <th>73</th>\n      <td>0.440678</td>\n      <td>0.0</td>\n      <td>1.0</td>\n      <td>1.0</td>\n      <td>0.520233</td>\n    </tr>\n    <tr>\n      <th>140</th>\n      <td>0.576271</td>\n      <td>1.0</td>\n      <td>0.0</td>\n      <td>1.0</td>\n      <td>0.000000</td>\n    </tr>\n    <tr>\n      <th>98</th>\n      <td>0.084746</td>\n      <td>1.0</td>\n      <td>0.0</td>\n      <td>1.0</td>\n      <td>0.918444</td>\n    </tr>\n    <tr>\n      <th>172</th>\n      <td>0.406780</td>\n      <td>0.0</td>\n      <td>1.0</td>\n      <td>1.0</td>\n      <td>0.342611</td>\n    </tr>\n    <tr>\n      <th>96</th>\n      <td>0.728814</td>\n      <td>0.0</td>\n      <td>0.5</td>\n      <td>0.0</td>\n      <td>1.000000</td>\n    </tr>\n  </tbody>\n</table>\n</div>"
     },
     "execution_count": 29,
     "metadata": {},
     "output_type": "execute_result"
    }
   ],
   "source": [
    "X_test"
   ],
   "metadata": {
    "collapsed": false,
    "ExecuteTime": {
     "end_time": "2024-03-27T03:30:25.364988Z",
     "start_time": "2024-03-27T03:30:25.334989Z"
    }
   },
   "id": "886db46b24400232",
   "execution_count": 29
  },
  {
   "cell_type": "code",
   "outputs": [
    {
     "data": {
      "text/plain": "array([1, 0, 2, 0, 4, 0, 0, 0, 0, 2, 4, 4, 4, 2, 1, 4, 0, 4, 1, 4, 3, 0,\n       1, 1, 1, 2, 2, 1, 0, 1, 0, 0, 1, 0, 0, 0, 4, 0, 4, 0, 0, 4, 2, 4,\n       0, 1, 3, 0, 4, 4, 0, 0, 4, 4, 2, 0, 2, 4, 0, 0, 0, 2, 3, 1, 0, 0,\n       0, 1, 4, 4, 0, 3, 0, 0, 4, 2, 4, 4, 0, 0, 0, 0, 0, 0, 2, 4, 3, 1,\n       0, 1, 1, 4, 0, 0, 0, 0, 4, 0, 1, 4, 0, 0, 4, 0, 4, 2, 0, 0, 3, 4,\n       0, 0, 0, 0, 4, 0, 4, 4, 0, 3, 3, 0, 3, 0, 2, 4, 0, 4, 0, 0, 0, 4,\n       0, 0, 0, 4, 4, 0, 0, 3])"
     },
     "execution_count": 30,
     "metadata": {},
     "output_type": "execute_result"
    }
   ],
   "source": [
    "y_train"
   ],
   "metadata": {
    "collapsed": false,
    "ExecuteTime": {
     "end_time": "2024-03-27T03:30:26.189803Z",
     "start_time": "2024-03-27T03:30:26.171723Z"
    }
   },
   "id": "b2f0ca22903ee99",
   "execution_count": 30
  },
  {
   "cell_type": "code",
   "outputs": [
    {
     "data": {
      "text/plain": "array([4, 0, 4, 3, 0, 0, 0, 4, 1, 4, 1, 4, 0, 1, 2, 0, 2, 4, 3, 0, 2, 4,\n       4, 0, 0, 0, 3, 4, 0, 4, 0, 3, 3, 0, 1, 0, 4, 1, 0, 1, 4, 4, 4, 0,\n       0, 3, 0, 0, 0, 4, 4, 0, 4, 0, 4, 0, 1, 0, 0, 0])"
     },
     "execution_count": 31,
     "metadata": {},
     "output_type": "execute_result"
    }
   ],
   "source": [
    "y_test"
   ],
   "metadata": {
    "collapsed": false,
    "ExecuteTime": {
     "end_time": "2024-03-27T03:30:26.975275Z",
     "start_time": "2024-03-27T03:30:26.967275Z"
    }
   },
   "id": "6391beb5a8db57eb",
   "execution_count": 31
  },
  {
   "cell_type": "code",
   "outputs": [],
   "source": [
    "rfc_gini = RandomForestClassifier(criterion='gini')"
   ],
   "metadata": {
    "collapsed": false,
    "ExecuteTime": {
     "end_time": "2024-03-27T03:33:14.197926Z",
     "start_time": "2024-03-27T03:33:14.183927Z"
    }
   },
   "id": "a94a0ef6780c86a4",
   "execution_count": 41
  },
  {
   "cell_type": "code",
   "outputs": [],
   "source": [
    "scores = cross_val_score(rfc_gini, X_train, y_train, cv=5)"
   ],
   "metadata": {
    "collapsed": false,
    "ExecuteTime": {
     "end_time": "2024-03-27T03:34:02.990630Z",
     "start_time": "2024-03-27T03:34:02.384068Z"
    }
   },
   "id": "4ad916cdef42904e",
   "execution_count": 42
  },
  {
   "cell_type": "code",
   "outputs": [
    {
     "name": "stdout",
     "output_type": "stream",
     "text": [
      "Cross-validation scores: [1.         1.         1.         0.96428571 1.        ]\n",
      "Average score: 0.9928571428571429\n"
     ]
    }
   ],
   "source": [
    "print(f'Cross-validation scores: {scores}')\n",
    "print(f'Average score: {scores.mean()}')"
   ],
   "metadata": {
    "collapsed": false,
    "ExecuteTime": {
     "end_time": "2024-03-27T03:34:08.955115Z",
     "start_time": "2024-03-27T03:34:08.946100Z"
    }
   },
   "id": "bbaa1894fcf2a29b",
   "execution_count": 43
  },
  {
   "cell_type": "code",
   "outputs": [
    {
     "data": {
      "text/plain": "array([4, 0, 4, 3, 0, 0, 0, 4, 1, 4, 1, 4, 0, 1, 2, 0, 2, 4, 3, 0, 2, 4,\n       4, 0, 0, 0, 3, 4, 0, 4, 0, 3, 3, 0, 1, 0, 4, 1, 0, 1, 4, 4, 4, 0,\n       0, 3, 0, 0, 0, 4, 4, 0, 4, 0, 4, 0, 1, 0, 0, 0])"
     },
     "execution_count": 33,
     "metadata": {},
     "output_type": "execute_result"
    }
   ],
   "source": [
    "y_pred = rfc_gini.predict(X_test)\n",
    "y_pred"
   ],
   "metadata": {
    "collapsed": false,
    "ExecuteTime": {
     "end_time": "2024-03-27T03:30:28.918802Z",
     "start_time": "2024-03-27T03:30:28.894804Z"
    }
   },
   "id": "b28ae732d6378010",
   "execution_count": 33
  },
  {
   "cell_type": "code",
   "outputs": [
    {
     "data": {
      "text/plain": "array([4, 0, 4, 3, 0, 0, 0, 4, 1, 4, 1, 4, 0, 1, 2, 0, 2, 4, 3, 0, 2, 4,\n       4, 0, 0, 0, 3, 4, 0, 4, 0, 3, 3, 0, 1, 0, 4, 1, 0, 1, 4, 4, 4, 0,\n       0, 3, 0, 0, 0, 4, 4, 0, 4, 0, 4, 0, 1, 0, 0, 0])"
     },
     "execution_count": 34,
     "metadata": {},
     "output_type": "execute_result"
    }
   ],
   "source": [
    "y_test"
   ],
   "metadata": {
    "collapsed": false,
    "ExecuteTime": {
     "end_time": "2024-03-27T03:30:29.693648Z",
     "start_time": "2024-03-27T03:30:29.682647Z"
    }
   },
   "id": "15580750ef0fe175",
   "execution_count": 34
  },
  {
   "cell_type": "code",
   "outputs": [
    {
     "name": "stdout",
     "output_type": "stream",
     "text": [
      "Accuracy prediction: 1.0\n"
     ]
    }
   ],
   "source": [
    "print(f'Accuracy prediction: {accuracy_score(y_test, y_pred)}')"
   ],
   "metadata": {
    "collapsed": false,
    "ExecuteTime": {
     "end_time": "2024-03-27T03:30:30.464568Z",
     "start_time": "2024-03-27T03:30:30.455569Z"
    }
   },
   "id": "d44dbeda543b558e",
   "execution_count": 35
  },
  {
   "cell_type": "code",
   "outputs": [
    {
     "data": {
      "text/plain": "RandomForestClassifier(criterion='entropy')",
      "text/html": "<style>#sk-container-id-3 {color: black;}#sk-container-id-3 pre{padding: 0;}#sk-container-id-3 div.sk-toggleable {background-color: white;}#sk-container-id-3 label.sk-toggleable__label {cursor: pointer;display: block;width: 100%;margin-bottom: 0;padding: 0.3em;box-sizing: border-box;text-align: center;}#sk-container-id-3 label.sk-toggleable__label-arrow:before {content: \"▸\";float: left;margin-right: 0.25em;color: #696969;}#sk-container-id-3 label.sk-toggleable__label-arrow:hover:before {color: black;}#sk-container-id-3 div.sk-estimator:hover label.sk-toggleable__label-arrow:before {color: black;}#sk-container-id-3 div.sk-toggleable__content {max-height: 0;max-width: 0;overflow: hidden;text-align: left;background-color: #f0f8ff;}#sk-container-id-3 div.sk-toggleable__content pre {margin: 0.2em;color: black;border-radius: 0.25em;background-color: #f0f8ff;}#sk-container-id-3 input.sk-toggleable__control:checked~div.sk-toggleable__content {max-height: 200px;max-width: 100%;overflow: auto;}#sk-container-id-3 input.sk-toggleable__control:checked~label.sk-toggleable__label-arrow:before {content: \"▾\";}#sk-container-id-3 div.sk-estimator input.sk-toggleable__control:checked~label.sk-toggleable__label {background-color: #d4ebff;}#sk-container-id-3 div.sk-label input.sk-toggleable__control:checked~label.sk-toggleable__label {background-color: #d4ebff;}#sk-container-id-3 input.sk-hidden--visually {border: 0;clip: rect(1px 1px 1px 1px);clip: rect(1px, 1px, 1px, 1px);height: 1px;margin: -1px;overflow: hidden;padding: 0;position: absolute;width: 1px;}#sk-container-id-3 div.sk-estimator {font-family: monospace;background-color: #f0f8ff;border: 1px dotted black;border-radius: 0.25em;box-sizing: border-box;margin-bottom: 0.5em;}#sk-container-id-3 div.sk-estimator:hover {background-color: #d4ebff;}#sk-container-id-3 div.sk-parallel-item::after {content: \"\";width: 100%;border-bottom: 1px solid gray;flex-grow: 1;}#sk-container-id-3 div.sk-label:hover label.sk-toggleable__label {background-color: #d4ebff;}#sk-container-id-3 div.sk-serial::before {content: \"\";position: absolute;border-left: 1px solid gray;box-sizing: border-box;top: 0;bottom: 0;left: 50%;z-index: 0;}#sk-container-id-3 div.sk-serial {display: flex;flex-direction: column;align-items: center;background-color: white;padding-right: 0.2em;padding-left: 0.2em;position: relative;}#sk-container-id-3 div.sk-item {position: relative;z-index: 1;}#sk-container-id-3 div.sk-parallel {display: flex;align-items: stretch;justify-content: center;background-color: white;position: relative;}#sk-container-id-3 div.sk-item::before, #sk-container-id-3 div.sk-parallel-item::before {content: \"\";position: absolute;border-left: 1px solid gray;box-sizing: border-box;top: 0;bottom: 0;left: 50%;z-index: -1;}#sk-container-id-3 div.sk-parallel-item {display: flex;flex-direction: column;z-index: 1;position: relative;background-color: white;}#sk-container-id-3 div.sk-parallel-item:first-child::after {align-self: flex-end;width: 50%;}#sk-container-id-3 div.sk-parallel-item:last-child::after {align-self: flex-start;width: 50%;}#sk-container-id-3 div.sk-parallel-item:only-child::after {width: 0;}#sk-container-id-3 div.sk-dashed-wrapped {border: 1px dashed gray;margin: 0 0.4em 0.5em 0.4em;box-sizing: border-box;padding-bottom: 0.4em;background-color: white;}#sk-container-id-3 div.sk-label label {font-family: monospace;font-weight: bold;display: inline-block;line-height: 1.2em;}#sk-container-id-3 div.sk-label-container {text-align: center;}#sk-container-id-3 div.sk-container {/* jupyter's `normalize.less` sets `[hidden] { display: none; }` but bootstrap.min.css set `[hidden] { display: none !important; }` so we also need the `!important` here to be able to override the default hidden behavior on the sphinx rendered scikit-learn.org. See: https://github.com/scikit-learn/scikit-learn/issues/21755 */display: inline-block !important;position: relative;}#sk-container-id-3 div.sk-text-repr-fallback {display: none;}</style><div id=\"sk-container-id-3\" class=\"sk-top-container\"><div class=\"sk-text-repr-fallback\"><pre>RandomForestClassifier(criterion=&#x27;entropy&#x27;)</pre><b>In a Jupyter environment, please rerun this cell to show the HTML representation or trust the notebook. <br />On GitHub, the HTML representation is unable to render, please try loading this page with nbviewer.org.</b></div><div class=\"sk-container\" hidden><div class=\"sk-item\"><div class=\"sk-estimator sk-toggleable\"><input class=\"sk-toggleable__control sk-hidden--visually\" id=\"sk-estimator-id-3\" type=\"checkbox\" checked><label for=\"sk-estimator-id-3\" class=\"sk-toggleable__label sk-toggleable__label-arrow\">RandomForestClassifier</label><div class=\"sk-toggleable__content\"><pre>RandomForestClassifier(criterion=&#x27;entropy&#x27;)</pre></div></div></div></div></div>"
     },
     "execution_count": 36,
     "metadata": {},
     "output_type": "execute_result"
    }
   ],
   "source": [
    "rfc_entropy = RandomForestClassifier(criterion='entropy')\n",
    "rfc_entropy.fit(X_train, y_train)"
   ],
   "metadata": {
    "collapsed": false,
    "ExecuteTime": {
     "end_time": "2024-03-27T03:32:11.221261Z",
     "start_time": "2024-03-27T03:32:11.073262Z"
    }
   },
   "id": "59a6f4a8eed0b58",
   "execution_count": 36
  },
  {
   "cell_type": "code",
   "outputs": [],
   "source": [
    "y_pred = rfc_entropy.predict(X_test)"
   ],
   "metadata": {
    "collapsed": false,
    "ExecuteTime": {
     "end_time": "2024-03-27T03:32:26.550342Z",
     "start_time": "2024-03-27T03:32:26.524256Z"
    }
   },
   "id": "abcf8747d26657b",
   "execution_count": 37
  },
  {
   "cell_type": "code",
   "outputs": [
    {
     "name": "stdout",
     "output_type": "stream",
     "text": [
      "Accuracy prediction: 1.0\n"
     ]
    }
   ],
   "source": [
    "print(f'Accuracy prediction: {accuracy_score(y_test, y_pred)}')"
   ],
   "metadata": {
    "collapsed": false,
    "ExecuteTime": {
     "end_time": "2024-03-27T03:32:32.278040Z",
     "start_time": "2024-03-27T03:32:32.259043Z"
    }
   },
   "id": "c5c332283bf21a49",
   "execution_count": 38
  },
  {
   "cell_type": "code",
   "outputs": [
    {
     "data": {
      "text/plain": "array([4, 0, 4, 3, 0, 0, 0, 4, 1, 4, 1, 4, 0, 1, 2, 0, 2, 4, 3, 0, 2, 4,\n       4, 0, 0, 0, 3, 4, 0, 4, 0, 3, 3, 0, 1, 0, 4, 1, 0, 1, 4, 4, 4, 0,\n       0, 3, 0, 0, 0, 4, 4, 0, 4, 0, 4, 0, 1, 0, 0, 0])"
     },
     "execution_count": 48,
     "metadata": {},
     "output_type": "execute_result"
    }
   ],
   "source": [
    "dtc = DecisionTreeClassifier(random_state=42, criterion='gini', splitter='best')\n",
    "y_pred = dtc.fit(X_train, y_train).predict(X_test)\n",
    "y_pred"
   ],
   "metadata": {
    "collapsed": false,
    "ExecuteTime": {
     "end_time": "2024-03-27T03:48:01.736557Z",
     "start_time": "2024-03-27T03:48:01.719476Z"
    }
   },
   "id": "f71adf0d3ea8967e",
   "execution_count": 48
  }
 ],
 "metadata": {
  "kernelspec": {
   "display_name": "Python 3",
   "language": "python",
   "name": "python3"
  },
  "language_info": {
   "codemirror_mode": {
    "name": "ipython",
    "version": 2
   },
   "file_extension": ".py",
   "mimetype": "text/x-python",
   "name": "python",
   "nbconvert_exporter": "python",
   "pygments_lexer": "ipython2",
   "version": "2.7.6"
  }
 },
 "nbformat": 4,
 "nbformat_minor": 5
}
